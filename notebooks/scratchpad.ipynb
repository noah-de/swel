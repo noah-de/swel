{
 "cells": [
  {
   "cell_type": "code",
   "execution_count": 11,
   "metadata": {},
   "outputs": [
    {
     "name": "stdout",
     "output_type": "stream",
     "text": [
      "E:\n",
      " [[1 2 3 4]\n",
      " [3 3 3 3]\n",
      " [2 4 6 8]]\n",
      "F:\n",
      " [[ 0.5  1.   2.   3. ]\n",
      " [ 0.5  1.   1.   2. ]\n",
      " [ 0.5  1.   2.   2. ]]\n",
      "f:\n",
      " [[ 0.25  0.5   0.75  0.5 ]\n",
      " [ 0.1   0.2   0.3   0.4 ]\n",
      " [ 0.1   0.1   0.1   0.1 ]]\n",
      "E+F:\n",
      " [[  1.5   3.    5.    7. ]\n",
      " [  3.5   4.    4.    5. ]\n",
      " [  2.5   5.    8.   10. ]]\n",
      "E-F:\n",
      " [[ 0.5  1.   1.   1. ]\n",
      " [ 2.5  2.   2.   1. ]\n",
      " [ 1.5  3.   4.   6. ]]\n",
      "E*F:\n",
      " [[  0.5   2.    6.   12. ]\n",
      " [  1.5   3.    3.    6. ]\n",
      " [  1.    4.   12.   16. ]]\n",
      "---\n",
      "np.diff(f):\n",
      " [[ 0.25  0.25 -0.25]\n",
      " [ 0.1   0.1   0.1 ]\n",
      " [ 0.    0.    0.  ]]\n"
     ]
    }
   ],
   "source": [
    "%matplotlib inline\n",
    "import numpy as np\n",
    "import matplotlib.pyplot as plt\n",
    "\n",
    "E = np.array([[1,2,3,4],[3,3,3,3],[2,4,6,8]])\n",
    "F = np.array([[.5,1,2,3],[.5,1,1,2],[.5,1,2,2]])\n",
    "\n",
    "print (\"E:\\n\",E)\n",
    "print (\"F:\\n\",F)\n",
    "f = np.array([[.25,.5,.75,.5],[.1,.2,.3,.4],[.1,.1,.1,.1]])\n",
    "print (\"f:\\n\",f)\n",
    "print (\"E+F:\\n\",E+F)\n",
    "print (\"E-F:\\n\",E-F)\n",
    "print (\"E*F:\\n\",E*F)\n",
    "print(\"---\")\n",
    "df = np.diff(f)\n",
    "print(\"np.diff(f):\\n\",df)"
   ]
  },
  {
   "cell_type": "code",
   "execution_count": 12,
   "metadata": {},
   "outputs": [
    {
     "name": "stdout",
     "output_type": "stream",
     "text": [
      "Emid:\n",
      " [[ 1.5  2.5  3.5]\n",
      " [ 3.   3.   3. ]\n",
      " [ 3.   5.   7. ]]\n"
     ]
    }
   ],
   "source": [
    "notfirst = E[:,1:]\n",
    "notlast  = E[:,:-1]\n",
    "Emid = .5*(notlast + notfirst)\n",
    "print(\"Emid:\\n\",Emid)"
   ]
  },
  {
   "cell_type": "code",
   "execution_count": 13,
   "metadata": {},
   "outputs": [
    {
     "name": "stdout",
     "output_type": "stream",
     "text": [
      "G:\n",
      " [[  0.5   2.    6.   12. ]\n",
      " [  1.5   3.    3.    6. ]\n",
      " [  1.    4.   12.   16. ]]\n",
      "Array row axis summaries:\n",
      " [ 20.5  13.5  33. ]\n",
      "square root of the row totals:\n",
      " [ 4.52769257  3.67423461  5.74456265]\n"
     ]
    }
   ],
   "source": [
    "# testing and learning\n",
    "a = np.arange(12).reshape(4,3)\n",
    "G = E*F\n",
    "print(\"G:\\n\",G)\n",
    "gsum = G.sum(axis=1)\n",
    "print(\"Array row axis summaries:\\n\",gsum)\n",
    "\n",
    "#gsumsquared = np.square(gsum)\n",
    "#print(\"Row totals squared:\\n\",gsumsquared)\n",
    "\n",
    "rooted = np.sqrt(gsum)\n",
    "print(\"square root of the row totals:\\n\",rooted)"
   ]
  },
  {
   "cell_type": "code",
   "execution_count": 14,
   "metadata": {},
   "outputs": [
    {
     "name": "stdout",
     "output_type": "stream",
     "text": [
      "significant wave height:\n",
      " [ 18.11077028  14.69693846  22.97825059]\n"
     ]
    }
   ],
   "source": [
    "product = (E*F)\n",
    "SWH = 4*np.sqrt(product.sum(axis=1))\n",
    "print(\"significant wave height:\\n\",SWH)"
   ]
  },
  {
   "cell_type": "code",
   "execution_count": 15,
   "metadata": {},
   "outputs": [
    {
     "name": "stdout",
     "output_type": "stream",
     "text": [
      "PE:\n",
      " [[ 0.66666667  0.4         0.28571429]\n",
      " [ 0.33333333  0.33333333  0.33333333]\n",
      " [ 0.33333333  0.2         0.14285714]]\n"
     ]
    }
   ],
   "source": [
    "PE = 1./Emid\n",
    "print(\"PE:\\n\",PE)"
   ]
  },
  {
   "cell_type": "code",
   "execution_count": 16,
   "metadata": {},
   "outputs": [
    {
     "name": "stdout",
     "output_type": "stream",
     "text": [
      "frequencies:\n",
      " [[ 0.25  0.5   0.75  0.5 ]\n",
      " [ 0.1   0.2   0.3   0.4 ]\n",
      " [ 0.1   0.1   0.1   0.1 ]]\n",
      "frequency mid-points:\n",
      " [[ 0.375  0.625  0.625]\n",
      " [ 0.15   0.25   0.35 ]\n",
      " [ 0.1    0.1    0.1  ]]\n",
      "periods: [ 0  5  7  9 11 13 15 17 19 21 35]\n",
      "period mid-points: [  2.5   6.    8.   10.   12.   14.   16.   18.   20.   28. ]\n",
      "wave frequency periods: [[  2.66666667   1.6          1.6       ]\n",
      " [  6.66666667   4.           2.85714286]\n",
      " [ 10.          10.          10.        ]]\n"
     ]
    }
   ],
   "source": [
    "print('frequencies:\\n',f)\n",
    "notfirst = f[:,1:]       # every element in a row, except for the first\n",
    "notlast  = f[:,:-1]      # every element in a row, except for the last\n",
    "fmid = .5*(notfirst + notlast)\n",
    "print('frequency mid-points:\\n',fmid)\n",
    "p = np.array([0,5,7,9,11,13,15,17,19,21,35])\n",
    "print('periods:',p)\n",
    "\n",
    "notfirst = p[1:]       # every element in a row, except for the first\n",
    "notlast  = p[:-1]      # every element in a row, except for the last\n",
    "pmid = .5*(notfirst + notlast)\n",
    "print('period mid-points:',pmid)\n",
    "\n",
    "pf = 1./fmid\n",
    "print('wave frequency periods:',pf)"
   ]
  },
  {
   "cell_type": "code",
   "execution_count": 17,
   "metadata": {},
   "outputs": [
    {
     "data": {
      "text/plain": [
       "array([[  2.66666667,   1.6       ,   1.6       ],\n",
       "       [  6.66666667,   4.        ,   2.85714286],\n",
       "       [ 10.        ,  10.        ,  10.        ]])"
      ]
     },
     "execution_count": 17,
     "metadata": {},
     "output_type": "execute_result"
    }
   ],
   "source": [
    "pf"
   ]
  },
  {
   "cell_type": "code",
   "execution_count": 26,
   "metadata": {},
   "outputs": [
    {
     "data": {
      "text/plain": [
       "array([[ True,  True,  True],\n",
       "       [False,  True,  True],\n",
       "       [False, False, False]], dtype=bool)"
      ]
     },
     "execution_count": 26,
     "metadata": {},
     "output_type": "execute_result"
    }
   ],
   "source": [
    "mask = (pf > 1) & (pf <= 5)\n",
    "mask"
   ]
  },
  {
   "cell_type": "code",
   "execution_count": 34,
   "metadata": {},
   "outputs": [
    {
     "data": {
      "text/plain": [
       "array([ 2.66666667,  6.66666667,  4.        ,  2.85714286])"
      ]
     },
     "execution_count": 34,
     "metadata": {},
     "output_type": "execute_result"
    }
   ],
   "source": [
    "pf[(fmid >.1)&(fmid <=.5)]"
   ]
  },
  {
   "cell_type": "code",
   "execution_count": 20,
   "metadata": {},
   "outputs": [
    {
     "name": "stdout",
     "output_type": "stream",
     "text": [
      "0\n",
      "1\n",
      "2\n",
      "3\n",
      "4\n",
      "5\n",
      "6\n",
      "7\n",
      "8\n",
      "9\n"
     ]
    }
   ],
   "source": [
    "for idx,_ in enumerate(pmid):\n",
    "    print(idx)"
   ]
  },
  {
   "cell_type": "code",
   "execution_count": null,
   "metadata": {
    "collapsed": true
   },
   "outputs": [],
   "source": []
  }
 ],
 "metadata": {
  "kernelspec": {
   "display_name": "Python 3",
   "language": "python",
   "name": "python3"
  },
  "language_info": {
   "codemirror_mode": {
    "name": "ipython",
    "version": 3
   },
   "file_extension": ".py",
   "mimetype": "text/x-python",
   "name": "python",
   "nbconvert_exporter": "python",
   "pygments_lexer": "ipython3",
   "version": "3.6.3"
  }
 },
 "nbformat": 4,
 "nbformat_minor": 2
}
