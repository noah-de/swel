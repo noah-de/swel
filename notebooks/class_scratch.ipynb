{
 "cells": [
  {
   "cell_type": "code",
   "execution_count": 1,
   "metadata": {
    "collapsed": true
   },
   "outputs": [],
   "source": [
    "%matplotlib inline\n",
    "\n",
    "import numpy as np\n",
    "from urllib.request import urlretrieve\n",
    "\n",
    "URL = \"https://www.ndbc.noaa.gov/data/realtime2/{}.data_spec\"\n",
    "DEST = \"./data/{}.data_spec\"\n",
    "\n",
    "class Buoy:\n",
    "    def __init__(self, buoy):\n",
    "        self.buoy = buoy\n",
    "        self.dates = []\n",
    "        self.E = np.array([])\n",
    "        self.f = np.array([])\n",
    "        self.Emid = np.array([])\n",
    "        self.fmid = np.array([])\n",
    "\n",
    "    def get_data(self, dest=\"\"):\n",
    "        url = URL.format(self.buoy)\n",
    "        if dest == \"\":\n",
    "            dest = DEST.format(self.buoy)\n",
    "        urlretrieve(url, dest)\n",
    "        self.dest = dest\n",
    "        return dest\n",
    "\n",
    "    def read_data(self, dest):\n",
    "        dates = []\n",
    "        energies = []\n",
    "        frequencies = []\n",
    "\n",
    "        with open(dest) as fp:\n",
    "            for _ in range(3):\n",
    "                next(fp)\n",
    "            \n",
    "            for l in fp:\n",
    "                dates.append(l.split()[0:5])\n",
    "                energies.append([float(e) for e in l.split()[6::2]])\n",
    "                freqs = l.split()[7::2]\n",
    "                frequencies.append([float(i[1:-1]) for i in freqs])\n",
    "            fp.close()\n",
    "\n",
    "            E = np.array(energies)\n",
    "            f = np.array(frequencies)\n",
    "        return (E, f)\n",
    "\n",
    "    def bootstrap(self):\n",
    "        self.Emid = self.calc_midpoint(E)\n",
    "        self.fmid = self.calc_midpoint(f)\n",
    "        self.df = np.diff(f)\n",
    "\n",
    "    def calc_swh(self):\n",
    "        product = self.df * self.Emid\n",
    "        return 4 * np.sqrt(product.sum(axis=1))\n",
    "    \n",
    "    def calc_midpoint(self, series):\n",
    "        nofirst = series[:, 1:]  # every element in a row, not the first\n",
    "        nolast = series[:, :-1]  # every element in a row, not the last\n",
    "        mid = 0.5 * (nolast + nofirst)\n",
    "        return mid"
   ]
  },
  {
   "cell_type": "markdown",
   "metadata": {},
   "source": [
    "from the top level directory, install the **swel** package with pip:\n",
    "\n",
    "`> pip install .`\n",
    "\n"
   ]
  },
  {
   "cell_type": "code",
   "execution_count": 2,
   "metadata": {},
   "outputs": [
    {
     "name": "stdout",
     "output_type": "stream",
     "text": [
      "b <class '__main__.Buoy'>\n",
      "E (1092, 46)\n"
     ]
    }
   ],
   "source": [
    "#from swel.buoy import Buoy\n",
    "b = Buoy(46054)\n",
    "print('b',type(b))\n",
    "dest = b.get_data()\n",
    "(E,f) = b.read_data(dest)\n",
    "print('E',E.shape)\n",
    "b.bootstrap()\n",
    "swh = b.calc_swh()\n"
   ]
  },
  {
   "cell_type": "code",
   "execution_count": 3,
   "metadata": {
    "scrolled": false
   },
   "outputs": [
    {
     "data": {
      "image/png": "[encoded data removed]",
      "text/plain": [
       "<matplotlib.figure.Figure at 0x1100d4940>"
      ]
     },
     "metadata": {},
     "output_type": "display_data"
    }
   ],
   "source": [
    "import matplotlib.pyplot as plt\n",
    "\n",
    "signif_waves = swh[0:60]*3.28\n",
    "\n",
    "fig, ax = plt.subplots()\n",
    "ax.plot(signif_waves, 'b')\n",
    "plt.gca().invert_xaxis()\n",
    "ax.set(xlabel='hours', ylabel='interval (seconds)',\n",
    "       title='Significant Wave height for the last 60 hours')\n",
    "ax.grid()"
   ]
  },
  {
   "cell_type": "code",
   "execution_count": 4,
   "metadata": {
    "collapsed": true
   },
   "outputs": [],
   "source": [
    "#import seaborn as sns\n",
    "#sns.set(style=\"darkgrid\")\n",
    "#@tips = sns.load_dataset(\"tips\")\n",
    "#sns.relplot(x=\"total_bill\", y=\"tip\", data=tips);\n",
    "# print(type(tips))\n",
    "#tips.columns"
   ]
  }
 ],
 "metadata": {
  "kernelspec": {
   "display_name": "Python 3",
   "language": "python",
   "name": "python3"
  },
  "language_info": {
   "codemirror_mode": {
    "name": "ipython",
    "version": 3
   },
   "file_extension": ".py",
   "mimetype": "text/x-python",
   "name": "python",
   "nbconvert_exporter": "python",
   "pygments_lexer": "ipython3",
   "version": "3.6.3"
  }
 },
 "nbformat": 4,
 "nbformat_minor": 2
}
