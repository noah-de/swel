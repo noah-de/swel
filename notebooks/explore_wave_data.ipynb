{
 "cells": [
  {
   "cell_type": "markdown",
   "metadata": {},
   "source": [
    "# Wave data analysis\n",
    "From the raw data feed, get the following:\n",
    " - [f] get frequency data as collection (1/seconds) measure of cycles per second\n",
    " - [E] get wave energy data as E (meters squared per second)\n",
    "\n",
    "Perform the following calculations:\n",
    "  1. [df] Average of frequency pairs comparing each frequency with the one after it\n",
    "  2. [Emid] calculate the Energy mid-point\n",
    "  3. [fmid] calculate the frequency mid-point\n",
    "  4. [SWF] Significant wave height integrating across the entire range of frequencies (as a function of wave periods)\n",
    "  5. [p] define the arbitrary period second intervals (p = [0,5,7,9,11,13,15,17,19,21,35])\n",
    "  6. [pmid] calculate the mid-point (between frequencies) Making plots nicer.\n",
    "  7. [pf] shift the focus from frequencies to periods\n",
    "  8. [SWHmid] # integrate the calculations: 4* sqrt(sum(df*Emid))\n",
    "\n",
    "*PLOT the results*"
   ]
  },
  {
   "cell_type": "code",
   "execution_count": 1,
   "metadata": {},
   "outputs": [
    {
     "data": {
      "text/plain": [
       "('./data/46053.data_spec', <http.client.HTTPMessage at 0x7f9a8e26fa90>)"
      ]
     },
     "execution_count": 1,
     "metadata": {},
     "output_type": "execute_result"
    }
   ],
   "source": [
    "%matplotlib inline\n",
    "\n",
    "# the address to the buoy data (should pass in as argument)\n",
    "# 46053 = E. Santa Barbara\n",
    "# 46054 = W. Santa Barbara\n",
    "# 46217 = Anacapa Passage\n",
    "# 46086 = San Clemente Basin\n",
    "# 46219 = San Nicolas Island\n",
    "filename = '46053' # the buoy name\n",
    "url = 'https://www.ndbc.noaa.gov/data/realtime2/{}.data_spec'.format(filename)\n",
    "dest = './data/{}.data_spec'.format(filename)\n",
    "from urllib.request import urlretrieve\n",
    "urlretrieve(url, dest)\n"
   ]
  },
  {
   "cell_type": "markdown",
   "metadata": {},
   "source": [
    "### Read the file into 3 lists\n",
    "Skipping the first 3 header lines"
   ]
  },
  {
   "cell_type": "code",
   "execution_count": 2,
   "metadata": {},
   "outputs": [
    {
     "name": "stdout",
     "output_type": "stream",
     "text": [
      "1097\t1097\t1097\n"
     ]
    }
   ],
   "source": [
    "import matplotlib.pyplot as plt\n",
    "import numpy as np\n",
    "#filename = '46053' # the buoy name\n",
    "dest = './data/{}.data_spec'.format(filename)\n",
    "\n",
    "dates = []\n",
    "energies = []\n",
    "frequencies = []\n",
    "\n",
    "with open(dest) as fp:\n",
    "    for _ in range(3):\n",
    "        next(fp)\n",
    "    \n",
    "    for l in fp:\n",
    "\n",
    "        dates.append(l.split()[0:5])\n",
    "        # separation_frequency = l.split()[5] # this value is ignored\n",
    "        \n",
    "        # [E] get wave energy data as E (meters squared per second)\n",
    "        energies.append([float(e) for e in l.split()[6::2]])\n",
    "\n",
    "        # [f] get frequency data as collection (1/seconds) measure of cycles per second\n",
    "        freqs=l.split()[7::2]\n",
    "        frequencies.append([float(i[1:-1]) for i in freqs])\n",
    "\n",
    "    fp.close()\n",
    "print(\"{}\\t{}\\t{}\".format(len(dates), len(energies), len(frequencies)))"
   ]
  },
  {
   "cell_type": "markdown",
   "metadata": {},
   "source": [
    "### convert the lists to numpy arrays"
   ]
  },
  {
   "cell_type": "code",
   "execution_count": 3,
   "metadata": {},
   "outputs": [],
   "source": [
    "E = np.array(energies)    # E for 'Energy'\n",
    "f = np.array(frequencies) # f for 'frequency'"
   ]
  },
  {
   "cell_type": "markdown",
   "metadata": {},
   "source": [
    "Take a peek at the Energy data:"
   ]
  },
  {
   "cell_type": "code",
   "execution_count": 4,
   "metadata": {},
   "outputs": [
    {
     "name": "stdout",
     "output_type": "stream",
     "text": [
      "E (Energy) is a numpy array (1097, 46)\n"
     ]
    },
    {
     "data": {
      "text/plain": [
       "[<matplotlib.lines.Line2D at 0x7f9a8d340208>]"
      ]
     },
     "execution_count": 4,
     "metadata": {},
     "output_type": "execute_result"
    },
    {
     "data": {
      "image/png": "[encoded data removed]",
      "text/plain": [
       "<Figure size 432x288 with 1 Axes>"
      ]
     },
     "metadata": {
      "needs_background": "light"
     },
     "output_type": "display_data"
    }
   ],
   "source": [
    "print(\"E (Energy) is a numpy array {}\".format(E.shape))\n",
    "sample_ndx = 500\n",
    "plt.plot(E[sample_ndx,:]) # view the data"
   ]
  },
  {
   "cell_type": "code",
   "execution_count": 5,
   "metadata": {},
   "outputs": [
    {
     "data": {
      "text/plain": [
       "array([0.033, 0.038, 0.043, 0.048, 0.053, 0.058, 0.063, 0.068, 0.073,\n",
       "       0.078, 0.083, 0.088, 0.093, 0.1  , 0.11 , 0.12 , 0.13 , 0.14 ,\n",
       "       0.15 , 0.16 , 0.17 , 0.18 , 0.19 , 0.2  , 0.21 , 0.22 , 0.23 ,\n",
       "       0.24 , 0.25 , 0.26 , 0.27 , 0.28 , 0.29 , 0.3  , 0.31 , 0.32 ,\n",
       "       0.33 , 0.34 , 0.35 , 0.365, 0.385, 0.405, 0.425, 0.445, 0.465,\n",
       "       0.485])"
      ]
     },
     "execution_count": 5,
     "metadata": {},
     "output_type": "execute_result"
    }
   ],
   "source": [
    "f[sample_ndx,:]   # display the data"
   ]
  },
  {
   "cell_type": "markdown",
   "metadata": {},
   "source": [
    "Take a peek at the frequency data:"
   ]
  },
  {
   "cell_type": "code",
   "execution_count": 6,
   "metadata": {},
   "outputs": [
    {
     "data": {
      "text/plain": [
       "[<matplotlib.lines.Line2D at 0x7f9a8d2d6908>]"
      ]
     },
     "execution_count": 6,
     "metadata": {},
     "output_type": "execute_result"
    },
    {
     "data": {
      "image/png": "[encoded data removed]",
      "text/plain": [
       "<Figure size 432x288 with 1 Axes>"
      ]
     },
     "metadata": {
      "needs_background": "light"
     },
     "output_type": "display_data"
    }
   ],
   "source": [
    "plt.plot(f[sample_ndx,:])"
   ]
  },
  {
   "cell_type": "markdown",
   "metadata": {},
   "source": [
    "### 1. [df] Average of frequency pairs comparing each frequency with the one after it"
   ]
  },
  {
   "cell_type": "code",
   "execution_count": 7,
   "metadata": {},
   "outputs": [
    {
     "data": {
      "text/plain": [
       "[<matplotlib.lines.Line2D at 0x7f9a8d23a588>]"
      ]
     },
     "execution_count": 7,
     "metadata": {},
     "output_type": "execute_result"
    },
    {
     "data": {
      "image/png": "[encoded data removed]",
      "text/plain": [
       "<Figure size 432x288 with 1 Axes>"
      ]
     },
     "metadata": {
      "needs_background": "light"
     },
     "output_type": "display_data"
    }
   ],
   "source": [
    "df = np.diff(f)\n",
    "plt.plot(df[sample_ndx,:])# slice of one row"
   ]
  },
  {
   "cell_type": "markdown",
   "metadata": {},
   "source": [
    "### 2. [Emid] calculate the Energy mid-point"
   ]
  },
  {
   "cell_type": "code",
   "execution_count": 8,
   "metadata": {},
   "outputs": [
    {
     "name": "stdout",
     "output_type": "stream",
     "text": [
      "(1097, 45)\n"
     ]
    },
    {
     "data": {
      "text/plain": [
       "array([0.    , 0.    , 0.    , 0.    , 0.089 , 0.446 , 1.7135, 3.1415,\n",
       "       2.838 , 1.8565, 1.91  , 2.249 , 2.178 , 1.7315, 1.4635, 1.3565,\n",
       "       0.8925, 0.5535, 0.5535, 0.4285, 0.3215, 0.3035, 0.1605, 0.1425,\n",
       "       0.1605, 0.143 , 0.107 , 0.0535, 0.036 , 0.036 , 0.0535, 0.0535,\n",
       "       0.036 , 0.036 , 0.036 , 0.018 , 0.    , 0.    , 0.    , 0.    ,\n",
       "       0.    , 0.    , 0.    , 0.    , 0.    ])"
      ]
     },
     "execution_count": 8,
     "metadata": {},
     "output_type": "execute_result"
    }
   ],
   "source": [
    "notfirst = E[:,1:]       # every element in a row, except for the first\n",
    "notlast  = E[:,:-1]      # every element in a row, except for the last\n",
    "Emid = .5 * (notlast + notfirst) \n",
    "print(Emid.shape)\n",
    "Emid[sample_ndx]"
   ]
  },
  {
   "cell_type": "markdown",
   "metadata": {},
   "source": [
    "### 3. [fmid] calculate the frequency mid-point"
   ]
  },
  {
   "cell_type": "code",
   "execution_count": 9,
   "metadata": {},
   "outputs": [
    {
     "name": "stdout",
     "output_type": "stream",
     "text": [
      "(1097, 45)\n"
     ]
    },
    {
     "data": {
      "text/plain": [
       "array([0.0355, 0.0405, 0.0455, 0.0505, 0.0555, 0.0605, 0.0655, 0.0705,\n",
       "       0.0755, 0.0805, 0.0855, 0.0905, 0.0965, 0.105 , 0.115 , 0.125 ,\n",
       "       0.135 , 0.145 , 0.155 , 0.165 , 0.175 , 0.185 , 0.195 , 0.205 ,\n",
       "       0.215 , 0.225 , 0.235 , 0.245 , 0.255 , 0.265 , 0.275 , 0.285 ,\n",
       "       0.295 , 0.305 , 0.315 , 0.325 , 0.335 , 0.345 , 0.3575, 0.375 ,\n",
       "       0.395 , 0.415 , 0.435 , 0.455 , 0.475 ])"
      ]
     },
     "execution_count": 9,
     "metadata": {},
     "output_type": "execute_result"
    }
   ],
   "source": [
    "fmid = .5*(f[:,:-1] + f[:,1:]) \n",
    "print(fmid.shape)\n",
    "fmid[sample_ndx]"
   ]
  },
  {
   "cell_type": "markdown",
   "metadata": {},
   "source": [
    "### 4. [SWH]  significant wave height (m -> multiply by 3.28 to get in feet)\n",
    "integrating across the entire range of frequencies\n",
    "(the integral)\n",
    "\n",
    "SWH = 4\\*sqrt(sum(df.*Emid,2)); \n",
    "\n",
    ".* takes two arrays and returns a 3rd array (of same size) The '2' restricts this to the 2nd dimension"
   ]
  },
  {
   "cell_type": "code",
   "execution_count": 10,
   "metadata": {
    "scrolled": false
   },
   "outputs": [
    {
     "name": "stdout",
     "output_type": "stream",
     "text": [
      "Significant wave height:\n",
      " <class 'numpy.ndarray'> (1097,) [1.38946896 1.49845254 1.41037584 ... 1.474761   1.533091   1.50547003]\n"
     ]
    },
    {
     "data": {
      "text/plain": [
       "[<matplotlib.lines.Line2D at 0x7f9a8d1a2978>]"
      ]
     },
     "execution_count": 10,
     "metadata": {},
     "output_type": "execute_result"
    },
    {
     "data": {
      "image/png": "[encoded data removed]",
      "text/plain": [
       "<Figure size 432x288 with 1 Axes>"
      ]
     },
     "metadata": {
      "needs_background": "light"
     },
     "output_type": "display_data"
    }
   ],
   "source": [
    "product = (df*Emid)\n",
    "SWH = 4*np.sqrt(product.sum(axis=1)); \n",
    "\n",
    "#plt.plot(SWH[:60]*3.28)\n",
    "print(\"Significant wave height:\\n\",type(SWH), SWH.shape, SWH)\n",
    "\n",
    "SWHflipped = SWH[::-1]\n",
    "plt.plot(SWHflipped[-60:]*3.28)"
   ]
  },
  {
   "cell_type": "markdown",
   "metadata": {},
   "source": [
    "### 5. [p] define period second intervals"
   ]
  },
  {
   "cell_type": "code",
   "execution_count": 11,
   "metadata": {},
   "outputs": [
    {
     "data": {
      "text/plain": [
       "array([ 0,  5,  7,  9, 11, 13, 15, 17, 19, 21, 35])"
      ]
     },
     "execution_count": 11,
     "metadata": {},
     "output_type": "execute_result"
    }
   ],
   "source": [
    "p = np.array([0,5,7,9,11,13,15,17,19,21,35])\n",
    "p"
   ]
  },
  {
   "cell_type": "markdown",
   "metadata": {},
   "source": [
    "### 6. [pmid] calculate the mid-point (between frequencies) "
   ]
  },
  {
   "cell_type": "code",
   "execution_count": 12,
   "metadata": {},
   "outputs": [
    {
     "data": {
      "text/plain": [
       "array([ 2.5,  6. ,  8. , 10. , 12. , 14. , 16. , 18. , 20. , 28. ])"
      ]
     },
     "execution_count": 12,
     "metadata": {},
     "output_type": "execute_result"
    }
   ],
   "source": [
    "notfirst = p[1:]       # every element in a row, except for the first\n",
    "notlast  = p[:-1]      # every element in a row, except for the last\n",
    "pmid = .5*(notfirst + notlast)\n",
    "pmid"
   ]
  },
  {
   "cell_type": "markdown",
   "metadata": {},
   "source": [
    "### 7. [pf] shift the focus from frequencies to periods"
   ]
  },
  {
   "cell_type": "code",
   "execution_count": 13,
   "metadata": {},
   "outputs": [
    {
     "name": "stdout",
     "output_type": "stream",
     "text": [
      "pf:\n",
      " [[28.16901408 24.69135802 21.97802198 ...  2.29885057  2.1978022\n",
      "   2.10526316]\n",
      " [28.16901408 24.69135802 21.97802198 ...  2.29885057  2.1978022\n",
      "   2.10526316]\n",
      " [28.16901408 24.69135802 21.97802198 ...  2.29885057  2.1978022\n",
      "   2.10526316]\n",
      " ...\n",
      " [28.16901408 24.69135802 21.97802198 ...  2.29885057  2.1978022\n",
      "   2.10526316]\n",
      " [28.16901408 24.69135802 21.97802198 ...  2.29885057  2.1978022\n",
      "   2.10526316]\n",
      " [28.16901408 24.69135802 21.97802198 ...  2.29885057  2.1978022\n",
      "   2.10526316]]\n"
     ]
    }
   ],
   "source": [
    "pf = 1./fmid\n",
    "print(\"pf:\\n\",pf)"
   ]
  },
  {
   "cell_type": "markdown",
   "metadata": {},
   "source": [
    "### 8.[SWHmid] integrate the calculations: 4 sqrt(sum(dfEmid))"
   ]
  },
  {
   "cell_type": "code",
   "execution_count": 15,
   "metadata": {},
   "outputs": [
    {
     "name": "stdout",
     "output_type": "stream",
     "text": [
      "0 2.5\n",
      "1 6.0\n",
      "2 8.0\n",
      "3 10.0\n",
      "4 12.0\n",
      "5 14.0\n",
      "6 16.0\n",
      "7 18.0\n",
      "8 20.0\n",
      "9 28.0\n"
     ]
    }
   ],
   "source": [
    "SWHmid = []\n",
    "# SWH needs to be as long as the data array and as wide as pmid\n",
    "\n",
    "for idx, _ in enumerate(pmid):\n",
    "    # loop over the period midpoints\n",
    "    print(idx, _)\n",
    "    # select the columns that match the criteria for the current period bin \n",
    "    mask = (pf > p[idx]) & (pf <= p[idx+1])\n",
    "    # print(mask)\n",
    "    \n",
    "    # this is how we calculated SWH\n",
    "    # -> product = (df*Emid)\n",
    "    # -> SWHmid. = 4*np.sqrt(product.sum(axis=1));\n",
    "    \n",
    "    # Here we need to add the calculated column data to the master list SWHmid\n",
    "    SWHmid.append(pf[mask])\n",
    "    \n",
    "    # matlab code: SWHmid(:,i) = 4*sqrt(sum(df(:,ii).*Emid(:,ii),2)); % !!\n",
    "    #print(SWHmid[idx])"
   ]
  }
 ],
 "metadata": {
  "kernelspec": {
   "display_name": "Python 3",
   "language": "python",
   "name": "python3"
  },
  "language_info": {
   "codemirror_mode": {
    "name": "ipython",
    "version": 3
   },
   "file_extension": ".py",
   "mimetype": "text/x-python",
   "name": "python",
   "nbconvert_exporter": "python",
   "pygments_lexer": "ipython3",
   "version": "3.7.0"
  }
 },
 "nbformat": 4,
 "nbformat_minor": 2
}
