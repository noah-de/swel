{
 "cells": [
  {
   "cell_type": "markdown",
   "metadata": {},
   "source": [
    "# Wave data analysis"
   ]
  },
  {
   "cell_type": "code",
   "execution_count": 73,
   "metadata": {},
   "outputs": [],
   "source": [
    "%matplotlib inline\n",
    "#function H = get_wave_data;\n",
    "#\n",
    "# the address to the buoy data (should pass in as argument)\n",
    "# 46053 = E. Santa Barbara\n",
    "# 46054 = W. Santa Barbara\n",
    "# 46217 = Anacapa Passage\n",
    "# 46086 = San Clemente Basin\n",
    "# 46219 = San Nicolas Island\n",
    "filename = '46053' # the buoy name\n",
    "url = 'https://www.ndbc.noaa.gov/data/realtime2/{}.data_spec'.format(filename)\n",
    "dest = './{}.data_spec'.format(filename)\n",
    "from urllib.request import urlretrieve\n",
    "#urlretrieve(url, dest)\n"
   ]
  },
  {
   "cell_type": "markdown",
   "metadata": {},
   "source": [
    "### Read the file into 3 lists\n",
    "Skipping the first 3 header lines"
   ]
  },
  {
   "cell_type": "code",
   "execution_count": 74,
   "metadata": {},
   "outputs": [
    {
     "name": "stdout",
     "output_type": "stream",
     "text": [
      "1085\t1085\t1085\n"
     ]
    }
   ],
   "source": [
    "import matplotlib.pyplot as plt\n",
    "import numpy as np\n",
    "filename = '46053' # the buoy name\n",
    "dest = './{}.data_spec'.format(filename)\n",
    "\n",
    "dates = []\n",
    "energies = []\n",
    "frequencies = []\n",
    "\n",
    "with open(dest) as fp:\n",
    "    for _ in range(3):\n",
    "        next(fp)\n",
    "    \n",
    "    for l in fp:\n",
    "\n",
    "        dates.append(l.split()[0:5])\n",
    "        # separation_frequency = l.split()[5] # this value is ignored\n",
    "        \n",
    "        # [E] get wave energy data as E (meters squared per second)\n",
    "        energies.append([float(e) for e in l.split()[6::2]])\n",
    "\n",
    "        # [f] get frequency data as collection (1/seconds) measure of cycles per second\n",
    "        freqs=l.split()[7::2]\n",
    "        frequencies.append([float(i[1:-1]) for i in freqs])\n",
    "\n",
    "    fp.close()\n",
    "print(\"{}\\t{}\\t{}\".format(len(dates), len(energies), len(frequencies)))"
   ]
  },
  {
   "cell_type": "markdown",
   "metadata": {},
   "source": [
    "### convert the lists to numpy arrays"
   ]
  },
  {
   "cell_type": "code",
   "execution_count": 75,
   "metadata": {},
   "outputs": [
    {
     "data": {
      "text/plain": [
       "[<matplotlib.lines.Line2D at 0x7f5419c923c8>]"
      ]
     },
     "execution_count": 75,
     "metadata": {},
     "output_type": "execute_result"
    },
    {
     "data": {
      "image/png": "[encoded data removed]",
      "text/plain": [
       "<Figure size 432x288 with 1 Axes>"
      ]
     },
     "metadata": {},
     "output_type": "display_data"
    }
   ],
   "source": [
    "E = np.array(energies)    # E for 'Energy'\n",
    "f = np.array(frequencies) # f for 'frequency'\n",
    "plt.plot(E[3,:])"
   ]
  },
  {
   "cell_type": "code",
   "execution_count": 76,
   "metadata": {},
   "outputs": [
    {
     "data": {
      "text/plain": [
       "array([[0.005, 0.005, 0.005, 0.005, 0.005, 0.005, 0.005, 0.005, 0.005,\n",
       "        0.005, 0.005, 0.005, 0.007, 0.01 , 0.01 , 0.01 , 0.01 , 0.01 ,\n",
       "        0.01 , 0.01 , 0.01 , 0.01 , 0.01 , 0.01 , 0.01 , 0.01 , 0.01 ,\n",
       "        0.01 , 0.01 , 0.01 , 0.01 , 0.01 , 0.01 , 0.01 , 0.01 , 0.01 ,\n",
       "        0.01 , 0.01 , 0.015, 0.02 , 0.02 , 0.02 , 0.02 , 0.02 , 0.02 ]])"
      ]
     },
     "execution_count": 76,
     "metadata": {},
     "output_type": "execute_result"
    }
   ],
   "source": [
    "df = np.diff(f)\n",
    "#plt.plot(df) # numpy differentiation is harsh\n",
    "df[1:2,:] # slice of one row"
   ]
  },
  {
   "cell_type": "code",
   "execution_count": 77,
   "metadata": {},
   "outputs": [],
   "source": [
    "# compare this element with the one next to it, along the 2nd dimension\n",
    "import pandas as pd\n",
    "dfN = pd.DataFrame(df)\n",
    "#dfN"
   ]
  },
  {
   "cell_type": "code",
   "execution_count": 78,
   "metadata": {},
   "outputs": [
    {
     "name": "stdout",
     "output_type": "stream",
     "text": [
      "<class 'pandas.core.frame.DataFrame'>\n"
     ]
    },
    {
     "data": {
      "text/html": [
       "<div>\n",
       "<style scoped>\n",
       "    .dataframe tbody tr th:only-of-type {\n",
       "        vertical-align: middle;\n",
       "    }\n",
       "\n",
       "    .dataframe tbody tr th {\n",
       "        vertical-align: top;\n",
       "    }\n",
       "\n",
       "    .dataframe thead th {\n",
       "        text-align: right;\n",
       "    }\n",
       "</style>\n",
       "<table border=\"1\" class=\"dataframe\">\n",
       "  <thead>\n",
       "    <tr style=\"text-align: right;\">\n",
       "      <th></th>\n",
       "      <th>0</th>\n",
       "      <th>1</th>\n",
       "      <th>2</th>\n",
       "      <th>3</th>\n",
       "      <th>4</th>\n",
       "      <th>5</th>\n",
       "      <th>6</th>\n",
       "      <th>7</th>\n",
       "      <th>8</th>\n",
       "      <th>9</th>\n",
       "      <th>...</th>\n",
       "      <th>36</th>\n",
       "      <th>37</th>\n",
       "      <th>38</th>\n",
       "      <th>39</th>\n",
       "      <th>40</th>\n",
       "      <th>41</th>\n",
       "      <th>42</th>\n",
       "      <th>43</th>\n",
       "      <th>44</th>\n",
       "      <th>45</th>\n",
       "    </tr>\n",
       "  </thead>\n",
       "  <tbody>\n",
       "    <tr>\n",
       "      <th>1</th>\n",
       "      <td>NaN</td>\n",
       "      <td>0.005</td>\n",
       "      <td>0.005</td>\n",
       "      <td>0.005</td>\n",
       "      <td>0.005</td>\n",
       "      <td>0.005</td>\n",
       "      <td>0.005</td>\n",
       "      <td>0.005</td>\n",
       "      <td>0.005</td>\n",
       "      <td>0.005</td>\n",
       "      <td>...</td>\n",
       "      <td>0.01</td>\n",
       "      <td>0.01</td>\n",
       "      <td>0.01</td>\n",
       "      <td>0.015</td>\n",
       "      <td>0.02</td>\n",
       "      <td>0.02</td>\n",
       "      <td>0.02</td>\n",
       "      <td>0.02</td>\n",
       "      <td>0.02</td>\n",
       "      <td>0.02</td>\n",
       "    </tr>\n",
       "    <tr>\n",
       "      <th>2</th>\n",
       "      <td>NaN</td>\n",
       "      <td>0.005</td>\n",
       "      <td>0.005</td>\n",
       "      <td>0.005</td>\n",
       "      <td>0.005</td>\n",
       "      <td>0.005</td>\n",
       "      <td>0.005</td>\n",
       "      <td>0.005</td>\n",
       "      <td>0.005</td>\n",
       "      <td>0.005</td>\n",
       "      <td>...</td>\n",
       "      <td>0.01</td>\n",
       "      <td>0.01</td>\n",
       "      <td>0.01</td>\n",
       "      <td>0.015</td>\n",
       "      <td>0.02</td>\n",
       "      <td>0.02</td>\n",
       "      <td>0.02</td>\n",
       "      <td>0.02</td>\n",
       "      <td>0.02</td>\n",
       "      <td>0.02</td>\n",
       "    </tr>\n",
       "    <tr>\n",
       "      <th>3</th>\n",
       "      <td>NaN</td>\n",
       "      <td>0.005</td>\n",
       "      <td>0.005</td>\n",
       "      <td>0.005</td>\n",
       "      <td>0.005</td>\n",
       "      <td>0.005</td>\n",
       "      <td>0.005</td>\n",
       "      <td>0.005</td>\n",
       "      <td>0.005</td>\n",
       "      <td>0.005</td>\n",
       "      <td>...</td>\n",
       "      <td>0.01</td>\n",
       "      <td>0.01</td>\n",
       "      <td>0.01</td>\n",
       "      <td>0.015</td>\n",
       "      <td>0.02</td>\n",
       "      <td>0.02</td>\n",
       "      <td>0.02</td>\n",
       "      <td>0.02</td>\n",
       "      <td>0.02</td>\n",
       "      <td>0.02</td>\n",
       "    </tr>\n",
       "  </tbody>\n",
       "</table>\n",
       "<p>3 rows × 46 columns</p>\n",
       "</div>"
      ],
      "text/plain": [
       "   0      1      2      3      4      5      6      7      8      9   ...   \\\n",
       "1 NaN  0.005  0.005  0.005  0.005  0.005  0.005  0.005  0.005  0.005  ...    \n",
       "2 NaN  0.005  0.005  0.005  0.005  0.005  0.005  0.005  0.005  0.005  ...    \n",
       "3 NaN  0.005  0.005  0.005  0.005  0.005  0.005  0.005  0.005  0.005  ...    \n",
       "\n",
       "     36    37    38     39    40    41    42    43    44    45  \n",
       "1  0.01  0.01  0.01  0.015  0.02  0.02  0.02  0.02  0.02  0.02  \n",
       "2  0.01  0.01  0.01  0.015  0.02  0.02  0.02  0.02  0.02  0.02  \n",
       "3  0.01  0.01  0.01  0.015  0.02  0.02  0.02  0.02  0.02  0.02  \n",
       "\n",
       "[3 rows x 46 columns]"
      ]
     },
     "execution_count": 78,
     "metadata": {},
     "output_type": "execute_result"
    }
   ],
   "source": [
    "freq = pd.DataFrame(f)\n",
    "\n",
    "df = freq.diff(axis=1,periods=1)\n",
    "print(type(df))\n",
    "df.iloc[[1,2,3]]\n",
    "#plt.plot(df[29]) # pandas differentiation has curves"
   ]
  },
  {
   "cell_type": "code",
   "execution_count": 79,
   "metadata": {},
   "outputs": [],
   "source": [
    "#np.mean(f, axis=0)\n",
    "\n",
    "# Emid = .5*(E(:,1:N-1)+E(:,2:N));\n",
    "#Emid = np.zeros(len(E))\n",
    "#for i in range(1,len(E)):\n",
    "#    Emid[i-1] = .5*(E[i-1] + E[i])\n",
    "#\n",
    "#print(\"Emid is a {} with len:{}\".format(type(Emid),len(Emid)))\n",
    "#plt.plot(Emid)\n",
    "# fmid = .5*(f(:,1:N-1)+f(:,2:N));"
   ]
  },
  {
   "cell_type": "code",
   "execution_count": 18,
   "metadata": {},
   "outputs": [],
   "source": [
    "#fmid = np.zeros(len(f))\n",
    "#for i in range(1,len(f)):\n",
    "#    fmid[i-1] = .5*(f[i-1] + f[i])\n",
    "#\n",
    "#print(\"fmid is a {} with len:{}\".format(type(fmid),len(fmid)))\n",
    "#plt.plot(fmid)"
   ]
  },
  {
   "cell_type": "code",
   "execution_count": 19,
   "metadata": {},
   "outputs": [],
   "source": [
    "#SWH = 4*sqrt(sum(df.*Emid,2));"
   ]
  },
  {
   "cell_type": "markdown",
   "metadata": {},
   "source": [
    "---"
   ]
  },
  {
   "cell_type": "markdown",
   "metadata": {},
   "source": [
    "### Open the file as a Pandas Series:"
   ]
  },
  {
   "cell_type": "code",
   "execution_count": 2,
   "metadata": {},
   "outputs": [
    {
     "ename": "NameError",
     "evalue": "name 'dest' is not defined",
     "output_type": "error",
     "traceback": [
      "\u001b[0;31m---------------------------------------------------------------------------\u001b[0m",
      "\u001b[0;31mNameError\u001b[0m                                 Traceback (most recent call last)",
      "\u001b[0;32m<ipython-input-2-8993e4dd0106>\u001b[0m in \u001b[0;36m<module>\u001b[0;34m()\u001b[0m\n\u001b[1;32m      1\u001b[0m \u001b[0;32mimport\u001b[0m \u001b[0mpandas\u001b[0m \u001b[0;32mas\u001b[0m \u001b[0mpd\u001b[0m\u001b[0;34m\u001b[0m\u001b[0m\n\u001b[0;32m----> 2\u001b[0;31m \u001b[0mdates\u001b[0m \u001b[0;34m=\u001b[0m \u001b[0mpd\u001b[0m\u001b[0;34m.\u001b[0m\u001b[0mread_csv\u001b[0m\u001b[0;34m(\u001b[0m\u001b[0mdest\u001b[0m\u001b[0;34m,\u001b[0m \u001b[0msep\u001b[0m\u001b[0;34m=\u001b[0m\u001b[0;34m'\\s+'\u001b[0m\u001b[0;34m,\u001b[0m \u001b[0mheader\u001b[0m\u001b[0;34m=\u001b[0m\u001b[0;32mNone\u001b[0m\u001b[0;34m,\u001b[0m \u001b[0mskiprows\u001b[0m\u001b[0;34m=\u001b[0m\u001b[0;34m[\u001b[0m\u001b[0;36m0\u001b[0m\u001b[0;34m]\u001b[0m\u001b[0;34m,\u001b[0m \u001b[0musecols\u001b[0m\u001b[0;34m=\u001b[0m\u001b[0;34m[\u001b[0m\u001b[0mi\u001b[0m \u001b[0;32mfor\u001b[0m \u001b[0mi\u001b[0m \u001b[0;32min\u001b[0m \u001b[0mrange\u001b[0m\u001b[0;34m(\u001b[0m\u001b[0;36m5\u001b[0m\u001b[0;34m)\u001b[0m\u001b[0;34m]\u001b[0m\u001b[0;34m)\u001b[0m\u001b[0;34m\u001b[0m\u001b[0m\n\u001b[0m\u001b[1;32m      3\u001b[0m \u001b[0mdata\u001b[0m \u001b[0;34m=\u001b[0m \u001b[0mpd\u001b[0m\u001b[0;34m.\u001b[0m\u001b[0mread_csv\u001b[0m\u001b[0;34m(\u001b[0m\u001b[0mdest\u001b[0m\u001b[0;34m,\u001b[0m \u001b[0msep\u001b[0m\u001b[0;34m=\u001b[0m\u001b[0;34m'\\s+'\u001b[0m\u001b[0;34m,\u001b[0m \u001b[0mheader\u001b[0m\u001b[0;34m=\u001b[0m\u001b[0;32mNone\u001b[0m\u001b[0;34m,\u001b[0m \u001b[0mskiprows\u001b[0m\u001b[0;34m=\u001b[0m\u001b[0;34m[\u001b[0m\u001b[0;36m0\u001b[0m\u001b[0;34m]\u001b[0m\u001b[0;34m,\u001b[0m \u001b[0musecols\u001b[0m\u001b[0;34m=\u001b[0m\u001b[0;34m[\u001b[0m\u001b[0mi\u001b[0m \u001b[0;32mfor\u001b[0m \u001b[0mi\u001b[0m \u001b[0;32min\u001b[0m \u001b[0mrange\u001b[0m\u001b[0;34m(\u001b[0m\u001b[0;36m5\u001b[0m\u001b[0;34m,\u001b[0m\u001b[0;36m98\u001b[0m\u001b[0;34m)\u001b[0m\u001b[0;34m]\u001b[0m\u001b[0;34m)\u001b[0m\u001b[0;34m\u001b[0m\u001b[0m\n\u001b[1;32m      4\u001b[0m \u001b[0mdates\u001b[0m\u001b[0;34m.\u001b[0m\u001b[0mhead\u001b[0m\u001b[0;34m(\u001b[0m\u001b[0;34m)\u001b[0m\u001b[0;34m\u001b[0m\u001b[0m\n",
      "\u001b[0;31mNameError\u001b[0m: name 'dest' is not defined"
     ]
    }
   ],
   "source": [
    "import pandas as pd\n",
    "dates = pd.read_csv(dest, sep='\\s+', header=None, skiprows=[0], usecols=[i for i in range(5)])\n",
    "data = pd.read_csv(dest, sep='\\s+', header=None, skiprows=[0], usecols=[i for i in range(5,98)])\n",
    "dates.head()\n"
   ]
  },
  {
   "cell_type": "code",
   "execution_count": 3,
   "metadata": {},
   "outputs": [
    {
     "ename": "NameError",
     "evalue": "name 'data' is not defined",
     "output_type": "error",
     "traceback": [
      "\u001b[0;31m---------------------------------------------------------------------------\u001b[0m",
      "\u001b[0;31mNameError\u001b[0m                                 Traceback (most recent call last)",
      "\u001b[0;32m<ipython-input-3-20020de5db5f>\u001b[0m in \u001b[0;36m<module>\u001b[0;34m()\u001b[0m\n\u001b[0;32m----> 1\u001b[0;31m \u001b[0mdata\u001b[0m\u001b[0;34m[\u001b[0m\u001b[0;34m'#YY'\u001b[0m\u001b[0;34m]\u001b[0m\u001b[0;34m[\u001b[0m\u001b[0;36m3\u001b[0m\u001b[0;34m]\u001b[0m\u001b[0;34m\u001b[0m\u001b[0m\n\u001b[0m",
      "\u001b[0;31mNameError\u001b[0m: name 'data' is not defined"
     ]
    }
   ],
   "source": [
    "data['#YY'][3]"
   ]
  },
  {
   "cell_type": "code",
   "execution_count": 4,
   "metadata": {},
   "outputs": [
    {
     "ename": "NameError",
     "evalue": "name 'data' is not defined",
     "output_type": "error",
     "traceback": [
      "\u001b[0;31m---------------------------------------------------------------------------\u001b[0m",
      "\u001b[0;31mNameError\u001b[0m                                 Traceback (most recent call last)",
      "\u001b[0;32m<ipython-input-4-b5f01a7c0d9a>\u001b[0m in \u001b[0;36m<module>\u001b[0;34m()\u001b[0m\n\u001b[0;32m----> 1\u001b[0;31m \u001b[0mtype\u001b[0m\u001b[0;34m(\u001b[0m\u001b[0mdata\u001b[0m\u001b[0;34m)\u001b[0m\u001b[0;34m\u001b[0m\u001b[0m\n\u001b[0m",
      "\u001b[0;31mNameError\u001b[0m: name 'data' is not defined"
     ]
    }
   ],
   "source": [
    "type(data)"
   ]
  },
  {
   "cell_type": "code",
   "execution_count": 123,
   "metadata": {},
   "outputs": [
    {
     "data": {
      "text/html": [
       "<div>\n",
       "<style scoped>\n",
       "    .dataframe tbody tr th:only-of-type {\n",
       "        vertical-align: middle;\n",
       "    }\n",
       "\n",
       "    .dataframe tbody tr th {\n",
       "        vertical-align: top;\n",
       "    }\n",
       "\n",
       "    .dataframe thead th {\n",
       "        text-align: right;\n",
       "    }\n",
       "</style>\n",
       "<table border=\"1\" class=\"dataframe\">\n",
       "  <thead>\n",
       "    <tr style=\"text-align: right;\">\n",
       "      <th></th>\n",
       "      <th>5</th>\n",
       "      <th>6</th>\n",
       "      <th>7</th>\n",
       "      <th>8</th>\n",
       "      <th>9</th>\n",
       "      <th>10</th>\n",
       "      <th>11</th>\n",
       "      <th>12</th>\n",
       "      <th>13</th>\n",
       "      <th>14</th>\n",
       "      <th>...</th>\n",
       "      <th>88</th>\n",
       "      <th>89</th>\n",
       "      <th>90</th>\n",
       "      <th>91</th>\n",
       "      <th>92</th>\n",
       "      <th>93</th>\n",
       "      <th>94</th>\n",
       "      <th>95</th>\n",
       "      <th>96</th>\n",
       "      <th>97</th>\n",
       "    </tr>\n",
       "  </thead>\n",
       "  <tbody>\n",
       "    <tr>\n",
       "      <th>0</th>\n",
       "      <td>0.087</td>\n",
       "      <td>0.0</td>\n",
       "      <td>(0.033)</td>\n",
       "      <td>0.0</td>\n",
       "      <td>(0.038)</td>\n",
       "      <td>0.0</td>\n",
       "      <td>(0.043)</td>\n",
       "      <td>0.158</td>\n",
       "      <td>(0.048)</td>\n",
       "      <td>0.316</td>\n",
       "      <td>...</td>\n",
       "      <td>0.0</td>\n",
       "      <td>(0.405)</td>\n",
       "      <td>0.0</td>\n",
       "      <td>(0.425)</td>\n",
       "      <td>0.0</td>\n",
       "      <td>(0.445)</td>\n",
       "      <td>0.0</td>\n",
       "      <td>(0.465)</td>\n",
       "      <td>0.0</td>\n",
       "      <td>(0.485)</td>\n",
       "    </tr>\n",
       "    <tr>\n",
       "      <th>1</th>\n",
       "      <td>0.098</td>\n",
       "      <td>0.0</td>\n",
       "      <td>(0.033)</td>\n",
       "      <td>0.0</td>\n",
       "      <td>(0.038)</td>\n",
       "      <td>0.0</td>\n",
       "      <td>(0.043)</td>\n",
       "      <td>0.000</td>\n",
       "      <td>(0.048)</td>\n",
       "      <td>0.000</td>\n",
       "      <td>...</td>\n",
       "      <td>0.0</td>\n",
       "      <td>(0.405)</td>\n",
       "      <td>0.0</td>\n",
       "      <td>(0.425)</td>\n",
       "      <td>0.0</td>\n",
       "      <td>(0.445)</td>\n",
       "      <td>0.0</td>\n",
       "      <td>(0.465)</td>\n",
       "      <td>0.0</td>\n",
       "      <td>(0.485)</td>\n",
       "    </tr>\n",
       "    <tr>\n",
       "      <th>2</th>\n",
       "      <td>0.113</td>\n",
       "      <td>0.0</td>\n",
       "      <td>(0.033)</td>\n",
       "      <td>0.0</td>\n",
       "      <td>(0.038)</td>\n",
       "      <td>0.0</td>\n",
       "      <td>(0.043)</td>\n",
       "      <td>0.000</td>\n",
       "      <td>(0.048)</td>\n",
       "      <td>0.094</td>\n",
       "      <td>...</td>\n",
       "      <td>0.0</td>\n",
       "      <td>(0.405)</td>\n",
       "      <td>0.0</td>\n",
       "      <td>(0.425)</td>\n",
       "      <td>0.0</td>\n",
       "      <td>(0.445)</td>\n",
       "      <td>0.0</td>\n",
       "      <td>(0.465)</td>\n",
       "      <td>0.0</td>\n",
       "      <td>(0.485)</td>\n",
       "    </tr>\n",
       "    <tr>\n",
       "      <th>3</th>\n",
       "      <td>0.090</td>\n",
       "      <td>0.0</td>\n",
       "      <td>(0.033)</td>\n",
       "      <td>0.0</td>\n",
       "      <td>(0.038)</td>\n",
       "      <td>0.0</td>\n",
       "      <td>(0.043)</td>\n",
       "      <td>0.000</td>\n",
       "      <td>(0.048)</td>\n",
       "      <td>0.000</td>\n",
       "      <td>...</td>\n",
       "      <td>0.0</td>\n",
       "      <td>(0.405)</td>\n",
       "      <td>0.0</td>\n",
       "      <td>(0.425)</td>\n",
       "      <td>0.0</td>\n",
       "      <td>(0.445)</td>\n",
       "      <td>0.0</td>\n",
       "      <td>(0.465)</td>\n",
       "      <td>0.0</td>\n",
       "      <td>(0.485)</td>\n",
       "    </tr>\n",
       "    <tr>\n",
       "      <th>4</th>\n",
       "      <td>0.098</td>\n",
       "      <td>0.0</td>\n",
       "      <td>(0.033)</td>\n",
       "      <td>0.0</td>\n",
       "      <td>(0.038)</td>\n",
       "      <td>0.0</td>\n",
       "      <td>(0.043)</td>\n",
       "      <td>0.183</td>\n",
       "      <td>(0.048)</td>\n",
       "      <td>0.274</td>\n",
       "      <td>...</td>\n",
       "      <td>0.0</td>\n",
       "      <td>(0.405)</td>\n",
       "      <td>0.0</td>\n",
       "      <td>(0.425)</td>\n",
       "      <td>0.0</td>\n",
       "      <td>(0.445)</td>\n",
       "      <td>0.0</td>\n",
       "      <td>(0.465)</td>\n",
       "      <td>0.0</td>\n",
       "      <td>(0.485)</td>\n",
       "    </tr>\n",
       "  </tbody>\n",
       "</table>\n",
       "<p>5 rows × 93 columns</p>\n",
       "</div>"
      ],
      "text/plain": [
       "      5    6        7    8        9    10       11     12       13     14  \\\n",
       "0  0.087  0.0  (0.033)  0.0  (0.038)  0.0  (0.043)  0.158  (0.048)  0.316   \n",
       "1  0.098  0.0  (0.033)  0.0  (0.038)  0.0  (0.043)  0.000  (0.048)  0.000   \n",
       "2  0.113  0.0  (0.033)  0.0  (0.038)  0.0  (0.043)  0.000  (0.048)  0.094   \n",
       "3  0.090  0.0  (0.033)  0.0  (0.038)  0.0  (0.043)  0.000  (0.048)  0.000   \n",
       "4  0.098  0.0  (0.033)  0.0  (0.038)  0.0  (0.043)  0.183  (0.048)  0.274   \n",
       "\n",
       "    ...      88       89   90       91   92       93   94       95   96  \\\n",
       "0   ...     0.0  (0.405)  0.0  (0.425)  0.0  (0.445)  0.0  (0.465)  0.0   \n",
       "1   ...     0.0  (0.405)  0.0  (0.425)  0.0  (0.445)  0.0  (0.465)  0.0   \n",
       "2   ...     0.0  (0.405)  0.0  (0.425)  0.0  (0.445)  0.0  (0.465)  0.0   \n",
       "3   ...     0.0  (0.405)  0.0  (0.425)  0.0  (0.445)  0.0  (0.465)  0.0   \n",
       "4   ...     0.0  (0.405)  0.0  (0.425)  0.0  (0.445)  0.0  (0.465)  0.0   \n",
       "\n",
       "        97  \n",
       "0  (0.485)  \n",
       "1  (0.485)  \n",
       "2  (0.485)  \n",
       "3  (0.485)  \n",
       "4  (0.485)  \n",
       "\n",
       "[5 rows x 93 columns]"
      ]
     },
     "execution_count": 123,
     "metadata": {},
     "output_type": "execute_result"
    }
   ],
   "source": [
    "data.head()"
   ]
  },
  {
   "cell_type": "code",
   "execution_count": 81,
   "metadata": {},
   "outputs": [],
   "source": [
    "\n",
    "\n",
    "# [Emid] calculate the Energy mid-point\n",
    "# [fmid] calculate the frequency mid-point\n",
    "# [SWF] Significant wave height integrating across the entire range of frequencies\n",
    "  # as a function of wave periods\n",
    "# [p] define the arbitrary period second intervals\n",
    "\n",
    "p = [0,5,7,9,11,13,15,17,19,21,35]\n",
    "\n",
    "# [Pmid] calculate the mid-point (between frequencies) Making plots nicer.\n",
    "# [pf] shift the focus from frequencies to periods\n",
    "# [SWHmid] # integrate the calculations: 4* sqrt(sum(df*Emid))\n",
    "\n",
    "# PLOT the results"
   ]
  }
 ],
 "metadata": {
  "kernelspec": {
   "display_name": "Python 3",
   "language": "python",
   "name": "python3"
  },
  "language_info": {
   "codemirror_mode": {
    "name": "ipython",
    "version": 3
   },
   "file_extension": ".py",
   "mimetype": "text/x-python",
   "name": "python",
   "nbconvert_exporter": "python",
   "pygments_lexer": "ipython3",
   "version": "3.6.5"
  }
 },
 "nbformat": 4,
 "nbformat_minor": 2
}
