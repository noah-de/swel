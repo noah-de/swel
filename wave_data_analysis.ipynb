{
 "cells": [
  {
   "cell_type": "markdown",
   "metadata": {},
   "source": [
    "# Wave data analysis\n",
    "From the raw data feed, get the following:\n",
    " - [f] get frequency data as collection (1/seconds) measure of cycles per second\n",
    " - [E] get wave energy data as E (meters squared per second)\n",
    "\n",
    "Perform the following calculations:\n",
    "  1. [df] Average of frequency pairs comparing each frequency with the one after it\n",
    "  2. [Emid] calculate the Energy mid-point\n",
    "  3. [fmid] calculate the frequency mid-point\n",
    "  4. [SWF] Significant wave height integrating across the entire range of frequencies (as a function of wave periods)\n",
    "  5. [p] define the arbitrary period second intervals (p = [0,5,7,9,11,13,15,17,19,21,35])\n",
    "  6. [Pmid] calculate the mid-point (between frequencies) Making plots nicer.\n",
    "  7. [pf] shift the focus from frequencies to periods\n",
    "  8. [SWHmid] # integrate the calculations: 4* sqrt(sum(df*Emid))\n",
    "\n",
    "*PLOT the results*"
   ]
  },
  {
   "cell_type": "code",
   "execution_count": 45,
   "metadata": {},
   "outputs": [],
   "source": [
    "%matplotlib inline\n",
    "\n",
    "# the address to the buoy data (should pass in as argument)\n",
    "# 46053 = E. Santa Barbara\n",
    "# 46054 = W. Santa Barbara\n",
    "# 46217 = Anacapa Passage\n",
    "# 46086 = San Clemente Basin\n",
    "# 46219 = San Nicolas Island\n",
    "filename = '46053' # the buoy name\n",
    "url = 'https://www.ndbc.noaa.gov/data/realtime2/{}.data_spec'.format(filename)\n",
    "dest = './{}.data_spec'.format(filename)\n",
    "from urllib.request import urlretrieve\n",
    "#urlretrieve(url, dest)\n"
   ]
  },
  {
   "cell_type": "markdown",
   "metadata": {},
   "source": [
    "### Read the file into 3 lists\n",
    "Skipping the first 3 header lines"
   ]
  },
  {
   "cell_type": "code",
   "execution_count": 46,
   "metadata": {},
   "outputs": [
    {
     "name": "stdout",
     "output_type": "stream",
     "text": [
      "1085\t1085\t1085\n"
     ]
    }
   ],
   "source": [
    "import matplotlib.pyplot as plt\n",
    "import numpy as np\n",
    "filename = '46053' # the buoy name\n",
    "dest = './{}.data_spec'.format(filename)\n",
    "\n",
    "dates = []\n",
    "energies = []\n",
    "frequencies = []\n",
    "\n",
    "with open(dest) as fp:\n",
    "    for _ in range(3):\n",
    "        next(fp)\n",
    "    \n",
    "    for l in fp:\n",
    "\n",
    "        dates.append(l.split()[0:5])\n",
    "        # separation_frequency = l.split()[5] # this value is ignored\n",
    "        \n",
    "        # [E] get wave energy data as E (meters squared per second)\n",
    "        energies.append([float(e) for e in l.split()[6::2]])\n",
    "\n",
    "        # [f] get frequency data as collection (1/seconds) measure of cycles per second\n",
    "        freqs=l.split()[7::2]\n",
    "        frequencies.append([float(i[1:-1]) for i in freqs])\n",
    "\n",
    "    fp.close()\n",
    "print(\"{}\\t{}\\t{}\".format(len(dates), len(energies), len(frequencies)))"
   ]
  },
  {
   "cell_type": "markdown",
   "metadata": {},
   "source": [
    "### convert the lists to numpy arrays"
   ]
  },
  {
   "cell_type": "code",
   "execution_count": 47,
   "metadata": {},
   "outputs": [],
   "source": [
    "E = np.array(energies)    # E for 'Energy'\n",
    "f = np.array(frequencies) # f for 'frequency'"
   ]
  },
  {
   "cell_type": "markdown",
   "metadata": {},
   "source": [
    "Take a look at the array:"
   ]
  },
  {
   "cell_type": "code",
   "execution_count": 48,
   "metadata": {},
   "outputs": [
    {
     "name": "stdout",
     "output_type": "stream",
     "text": [
      "E (Energy) is a numpy array (1085, 46)\n"
     ]
    },
    {
     "data": {
      "text/plain": [
       "[<matplotlib.lines.Line2D at 0x7f5f8dc9b438>]"
      ]
     },
     "execution_count": 48,
     "metadata": {},
     "output_type": "execute_result"
    },
    {
     "data": {
      "image/png": "[encoded data removed]",
      "text/plain": [
       "<Figure size 432x288 with 1 Axes>"
      ]
     },
     "metadata": {},
     "output_type": "display_data"
    }
   ],
   "source": [
    "print(\"E (Energy) is a numpy array {}\".format(E.shape))\n",
    "sample_ndx = 722\n",
    "E[sample_ndx,:]           # display the data\n",
    "plt.plot(E[sample_ndx,:]) # view the data"
   ]
  },
  {
   "cell_type": "code",
   "execution_count": 34,
   "metadata": {},
   "outputs": [
    {
     "data": {
      "text/plain": [
       "array([0.033, 0.038, 0.043, 0.048, 0.053, 0.058, 0.063, 0.068, 0.073,\n",
       "       0.078, 0.083, 0.088, 0.093, 0.1  , 0.11 , 0.12 , 0.13 , 0.14 ,\n",
       "       0.15 , 0.16 , 0.17 , 0.18 , 0.19 , 0.2  , 0.21 , 0.22 , 0.23 ,\n",
       "       0.24 , 0.25 , 0.26 , 0.27 , 0.28 , 0.29 , 0.3  , 0.31 , 0.32 ,\n",
       "       0.33 , 0.34 , 0.35 , 0.365, 0.385, 0.405, 0.425, 0.445, 0.465,\n",
       "       0.485])"
      ]
     },
     "execution_count": 34,
     "metadata": {},
     "output_type": "execute_result"
    }
   ],
   "source": [
    "f[sample_ndx,:]   # display the data"
   ]
  },
  {
   "cell_type": "code",
   "execution_count": 35,
   "metadata": {},
   "outputs": [
    {
     "data": {
      "text/plain": [
       "[<matplotlib.lines.Line2D at 0x7f5f8dd4e128>]"
      ]
     },
     "execution_count": 35,
     "metadata": {},
     "output_type": "execute_result"
    },
    {
     "data": {
      "image/png": "[encoded data removed]",
      "text/plain": [
       "<Figure size 432x288 with 1 Axes>"
      ]
     },
     "metadata": {},
     "output_type": "display_data"
    }
   ],
   "source": [
    "df = np.diff(f)\n",
    "#plt.plot(df) # numpy differentiation is harsh\n",
    "df[sample_ndx,:] # slice of one row\n",
    "plt.plot(df[sample_ndx,:])"
   ]
  },
  {
   "cell_type": "code",
   "execution_count": 39,
   "metadata": {},
   "outputs": [],
   "source": [
    "import pandas as pd\n",
    "freq = pd.DataFrame(f)\n",
    "\n",
    "p_df = freq.diff(axis=1,periods=1) # compare this element with the one next to it, along the 2nd dimension"
   ]
  },
  {
   "cell_type": "code",
   "execution_count": 41,
   "metadata": {},
   "outputs": [
    {
     "name": "stdout",
     "output_type": "stream",
     "text": [
      "<class 'pandas.core.frame.DataFrame'>\n"
     ]
    },
    {
     "data": {
      "text/html": [
       "<div>\n",
       "<style scoped>\n",
       "    .dataframe tbody tr th:only-of-type {\n",
       "        vertical-align: middle;\n",
       "    }\n",
       "\n",
       "    .dataframe tbody tr th {\n",
       "        vertical-align: top;\n",
       "    }\n",
       "\n",
       "    .dataframe thead th {\n",
       "        text-align: right;\n",
       "    }\n",
       "</style>\n",
       "<table border=\"1\" class=\"dataframe\">\n",
       "  <thead>\n",
       "    <tr style=\"text-align: right;\">\n",
       "      <th></th>\n",
       "      <th>0</th>\n",
       "      <th>1</th>\n",
       "      <th>2</th>\n",
       "      <th>3</th>\n",
       "      <th>4</th>\n",
       "      <th>5</th>\n",
       "      <th>6</th>\n",
       "      <th>7</th>\n",
       "      <th>8</th>\n",
       "      <th>9</th>\n",
       "      <th>...</th>\n",
       "      <th>36</th>\n",
       "      <th>37</th>\n",
       "      <th>38</th>\n",
       "      <th>39</th>\n",
       "      <th>40</th>\n",
       "      <th>41</th>\n",
       "      <th>42</th>\n",
       "      <th>43</th>\n",
       "      <th>44</th>\n",
       "      <th>45</th>\n",
       "    </tr>\n",
       "  </thead>\n",
       "  <tbody>\n",
       "    <tr>\n",
       "      <th>1</th>\n",
       "      <td>NaN</td>\n",
       "      <td>0.005</td>\n",
       "      <td>0.005</td>\n",
       "      <td>0.005</td>\n",
       "      <td>0.005</td>\n",
       "      <td>0.005</td>\n",
       "      <td>0.005</td>\n",
       "      <td>0.005</td>\n",
       "      <td>0.005</td>\n",
       "      <td>0.005</td>\n",
       "      <td>...</td>\n",
       "      <td>0.01</td>\n",
       "      <td>0.01</td>\n",
       "      <td>0.01</td>\n",
       "      <td>0.015</td>\n",
       "      <td>0.02</td>\n",
       "      <td>0.02</td>\n",
       "      <td>0.02</td>\n",
       "      <td>0.02</td>\n",
       "      <td>0.02</td>\n",
       "      <td>0.02</td>\n",
       "    </tr>\n",
       "    <tr>\n",
       "      <th>2</th>\n",
       "      <td>NaN</td>\n",
       "      <td>0.005</td>\n",
       "      <td>0.005</td>\n",
       "      <td>0.005</td>\n",
       "      <td>0.005</td>\n",
       "      <td>0.005</td>\n",
       "      <td>0.005</td>\n",
       "      <td>0.005</td>\n",
       "      <td>0.005</td>\n",
       "      <td>0.005</td>\n",
       "      <td>...</td>\n",
       "      <td>0.01</td>\n",
       "      <td>0.01</td>\n",
       "      <td>0.01</td>\n",
       "      <td>0.015</td>\n",
       "      <td>0.02</td>\n",
       "      <td>0.02</td>\n",
       "      <td>0.02</td>\n",
       "      <td>0.02</td>\n",
       "      <td>0.02</td>\n",
       "      <td>0.02</td>\n",
       "    </tr>\n",
       "    <tr>\n",
       "      <th>3</th>\n",
       "      <td>NaN</td>\n",
       "      <td>0.005</td>\n",
       "      <td>0.005</td>\n",
       "      <td>0.005</td>\n",
       "      <td>0.005</td>\n",
       "      <td>0.005</td>\n",
       "      <td>0.005</td>\n",
       "      <td>0.005</td>\n",
       "      <td>0.005</td>\n",
       "      <td>0.005</td>\n",
       "      <td>...</td>\n",
       "      <td>0.01</td>\n",
       "      <td>0.01</td>\n",
       "      <td>0.01</td>\n",
       "      <td>0.015</td>\n",
       "      <td>0.02</td>\n",
       "      <td>0.02</td>\n",
       "      <td>0.02</td>\n",
       "      <td>0.02</td>\n",
       "      <td>0.02</td>\n",
       "      <td>0.02</td>\n",
       "    </tr>\n",
       "    <tr>\n",
       "      <th>722</th>\n",
       "      <td>NaN</td>\n",
       "      <td>0.005</td>\n",
       "      <td>0.005</td>\n",
       "      <td>0.005</td>\n",
       "      <td>0.005</td>\n",
       "      <td>0.005</td>\n",
       "      <td>0.005</td>\n",
       "      <td>0.005</td>\n",
       "      <td>0.005</td>\n",
       "      <td>0.005</td>\n",
       "      <td>...</td>\n",
       "      <td>0.01</td>\n",
       "      <td>0.01</td>\n",
       "      <td>0.01</td>\n",
       "      <td>0.015</td>\n",
       "      <td>0.02</td>\n",
       "      <td>0.02</td>\n",
       "      <td>0.02</td>\n",
       "      <td>0.02</td>\n",
       "      <td>0.02</td>\n",
       "      <td>0.02</td>\n",
       "    </tr>\n",
       "  </tbody>\n",
       "</table>\n",
       "<p>4 rows × 46 columns</p>\n",
       "</div>"
      ],
      "text/plain": [
       "     0      1      2      3      4      5      6      7      8      9   ...   \\\n",
       "1   NaN  0.005  0.005  0.005  0.005  0.005  0.005  0.005  0.005  0.005  ...    \n",
       "2   NaN  0.005  0.005  0.005  0.005  0.005  0.005  0.005  0.005  0.005  ...    \n",
       "3   NaN  0.005  0.005  0.005  0.005  0.005  0.005  0.005  0.005  0.005  ...    \n",
       "722 NaN  0.005  0.005  0.005  0.005  0.005  0.005  0.005  0.005  0.005  ...    \n",
       "\n",
       "       36    37    38     39    40    41    42    43    44    45  \n",
       "1    0.01  0.01  0.01  0.015  0.02  0.02  0.02  0.02  0.02  0.02  \n",
       "2    0.01  0.01  0.01  0.015  0.02  0.02  0.02  0.02  0.02  0.02  \n",
       "3    0.01  0.01  0.01  0.015  0.02  0.02  0.02  0.02  0.02  0.02  \n",
       "722  0.01  0.01  0.01  0.015  0.02  0.02  0.02  0.02  0.02  0.02  \n",
       "\n",
       "[4 rows x 46 columns]"
      ]
     },
     "execution_count": 41,
     "metadata": {},
     "output_type": "execute_result"
    }
   ],
   "source": [
    "print(type(p_df))\n",
    "p_df.iloc[[1,2,3,sample_ndx]]\n",
    "#plt.plot(p_df[[29]]) # pandas differentiation has curves"
   ]
  },
  {
   "cell_type": "code",
   "execution_count": 65,
   "metadata": {},
   "outputs": [
    {
     "name": "stdout",
     "output_type": "stream",
     "text": [
      "(1085, 46)\n"
     ]
    },
    {
     "data": {
      "text/html": [
       "<div>\n",
       "<style scoped>\n",
       "    .dataframe tbody tr th:only-of-type {\n",
       "        vertical-align: middle;\n",
       "    }\n",
       "\n",
       "    .dataframe tbody tr th {\n",
       "        vertical-align: top;\n",
       "    }\n",
       "\n",
       "    .dataframe thead th {\n",
       "        text-align: right;\n",
       "    }\n",
       "</style>\n",
       "<table border=\"1\" class=\"dataframe\">\n",
       "  <thead>\n",
       "    <tr style=\"text-align: right;\">\n",
       "      <th></th>\n",
       "      <th>0</th>\n",
       "      <th>1</th>\n",
       "      <th>2</th>\n",
       "      <th>3</th>\n",
       "      <th>4</th>\n",
       "      <th>5</th>\n",
       "      <th>6</th>\n",
       "      <th>7</th>\n",
       "      <th>8</th>\n",
       "      <th>9</th>\n",
       "      <th>...</th>\n",
       "      <th>36</th>\n",
       "      <th>37</th>\n",
       "      <th>38</th>\n",
       "      <th>39</th>\n",
       "      <th>40</th>\n",
       "      <th>41</th>\n",
       "      <th>42</th>\n",
       "      <th>43</th>\n",
       "      <th>44</th>\n",
       "      <th>45</th>\n",
       "    </tr>\n",
       "  </thead>\n",
       "  <tbody>\n",
       "    <tr>\n",
       "      <th>1</th>\n",
       "      <td>0.0</td>\n",
       "      <td>0.0</td>\n",
       "      <td>0.0</td>\n",
       "      <td>0.000</td>\n",
       "      <td>0.018</td>\n",
       "      <td>0.055</td>\n",
       "      <td>0.061</td>\n",
       "      <td>0.079</td>\n",
       "      <td>0.115</td>\n",
       "      <td>0.170</td>\n",
       "      <td>...</td>\n",
       "      <td>0.006</td>\n",
       "      <td>0.006</td>\n",
       "      <td>0.000</td>\n",
       "      <td>0.000</td>\n",
       "      <td>0.000</td>\n",
       "      <td>0.000</td>\n",
       "      <td>0.000</td>\n",
       "      <td>0.0</td>\n",
       "      <td>0.0</td>\n",
       "      <td>0.0</td>\n",
       "    </tr>\n",
       "    <tr>\n",
       "      <th>2</th>\n",
       "      <td>0.0</td>\n",
       "      <td>0.0</td>\n",
       "      <td>0.0</td>\n",
       "      <td>0.012</td>\n",
       "      <td>0.019</td>\n",
       "      <td>0.037</td>\n",
       "      <td>0.056</td>\n",
       "      <td>0.142</td>\n",
       "      <td>0.234</td>\n",
       "      <td>0.290</td>\n",
       "      <td>...</td>\n",
       "      <td>0.006</td>\n",
       "      <td>0.012</td>\n",
       "      <td>0.006</td>\n",
       "      <td>0.006</td>\n",
       "      <td>0.000</td>\n",
       "      <td>0.000</td>\n",
       "      <td>0.000</td>\n",
       "      <td>0.0</td>\n",
       "      <td>0.0</td>\n",
       "      <td>0.0</td>\n",
       "    </tr>\n",
       "    <tr>\n",
       "      <th>3</th>\n",
       "      <td>0.0</td>\n",
       "      <td>0.0</td>\n",
       "      <td>0.0</td>\n",
       "      <td>0.000</td>\n",
       "      <td>0.000</td>\n",
       "      <td>0.016</td>\n",
       "      <td>0.073</td>\n",
       "      <td>0.163</td>\n",
       "      <td>0.179</td>\n",
       "      <td>0.179</td>\n",
       "      <td>...</td>\n",
       "      <td>0.008</td>\n",
       "      <td>0.000</td>\n",
       "      <td>0.000</td>\n",
       "      <td>0.000</td>\n",
       "      <td>0.000</td>\n",
       "      <td>0.000</td>\n",
       "      <td>0.000</td>\n",
       "      <td>0.0</td>\n",
       "      <td>0.0</td>\n",
       "      <td>0.0</td>\n",
       "    </tr>\n",
       "    <tr>\n",
       "      <th>722</th>\n",
       "      <td>0.0</td>\n",
       "      <td>0.0</td>\n",
       "      <td>0.0</td>\n",
       "      <td>0.000</td>\n",
       "      <td>0.000</td>\n",
       "      <td>0.000</td>\n",
       "      <td>0.044</td>\n",
       "      <td>0.098</td>\n",
       "      <td>0.098</td>\n",
       "      <td>0.098</td>\n",
       "      <td>...</td>\n",
       "      <td>0.033</td>\n",
       "      <td>0.055</td>\n",
       "      <td>0.033</td>\n",
       "      <td>0.044</td>\n",
       "      <td>0.022</td>\n",
       "      <td>0.022</td>\n",
       "      <td>0.011</td>\n",
       "      <td>0.0</td>\n",
       "      <td>0.0</td>\n",
       "      <td>0.0</td>\n",
       "    </tr>\n",
       "  </tbody>\n",
       "</table>\n",
       "<p>4 rows × 46 columns</p>\n",
       "</div>"
      ],
      "text/plain": [
       "      0    1    2      3      4      5      6      7      8      9  ...   \\\n",
       "1    0.0  0.0  0.0  0.000  0.018  0.055  0.061  0.079  0.115  0.170 ...    \n",
       "2    0.0  0.0  0.0  0.012  0.019  0.037  0.056  0.142  0.234  0.290 ...    \n",
       "3    0.0  0.0  0.0  0.000  0.000  0.016  0.073  0.163  0.179  0.179 ...    \n",
       "722  0.0  0.0  0.0  0.000  0.000  0.000  0.044  0.098  0.098  0.098 ...    \n",
       "\n",
       "        36     37     38     39     40     41     42   43   44   45  \n",
       "1    0.006  0.006  0.000  0.000  0.000  0.000  0.000  0.0  0.0  0.0  \n",
       "2    0.006  0.012  0.006  0.006  0.000  0.000  0.000  0.0  0.0  0.0  \n",
       "3    0.008  0.000  0.000  0.000  0.000  0.000  0.000  0.0  0.0  0.0  \n",
       "722  0.033  0.055  0.033  0.044  0.022  0.022  0.011  0.0  0.0  0.0  \n",
       "\n",
       "[4 rows x 46 columns]"
      ]
     },
     "execution_count": 65,
     "metadata": {},
     "output_type": "execute_result"
    }
   ],
   "source": [
    "pdE = pd.DataFrame(E)\n",
    "np.mean(pdE, axis='columns')\n",
    "print(pdE.shape)\n",
    "pdE.iloc[[1,2,3,sample_ndx]]\n",
    "\n",
    "# Emid = .5*(E(:,1:N-1)+E(:,2:N));\n",
    "#Emid = np.zeros(len(E))\n",
    "#for i in range(1,len(E)):\n",
    "#    Emid[i-1] = .5*(E[i-1] + E[i])\n",
    "#\n",
    "#print(\"Emid is a {} with len:{}\".format(type(Emid),len(Emid)))\n",
    "#plt.plot(Emid)\n",
    "# fmid = .5*(f(:,1:N-1)+f(:,2:N));"
   ]
  },
  {
   "cell_type": "code",
   "execution_count": 43,
   "metadata": {},
   "outputs": [],
   "source": [
    "#fmid = np.zeros(len(f))\n",
    "#for i in range(1,len(f)):\n",
    "#    fmid[i-1] = .5*(f[i-1] + f[i])\n",
    "#\n",
    "#print(\"fmid is a {} with len:{}\".format(type(fmid),len(fmid)))\n",
    "#plt.plot(fmid)"
   ]
  },
  {
   "cell_type": "code",
   "execution_count": 44,
   "metadata": {},
   "outputs": [],
   "source": [
    "#SWH = 4*sqrt(sum(df.*Emid,2));"
   ]
  },
  {
   "cell_type": "markdown",
   "metadata": {},
   "source": [
    "---"
   ]
  }
 ],
 "metadata": {
  "kernelspec": {
   "display_name": "Python 3",
   "language": "python",
   "name": "python3"
  },
  "language_info": {
   "codemirror_mode": {
    "name": "ipython",
    "version": 3
   },
   "file_extension": ".py",
   "mimetype": "text/x-python",
   "name": "python",
   "nbconvert_exporter": "python",
   "pygments_lexer": "ipython3",
   "version": "3.6.5"
  }
 },
 "nbformat": 4,
 "nbformat_minor": 2
}
