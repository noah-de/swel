{
 "cells": [
  {
   "cell_type": "code",
   "execution_count": 1,
   "metadata": {},
   "outputs": [
    {
     "name": "stdout",
     "output_type": "stream",
     "text": [
      "E:\n",
      " [[1 2 3 4]\n",
      " [3 3 3 3]\n",
      " [2 4 6 8]]\n",
      "F:\n",
      " [[ 4  9 16 10]\n",
      " [ 3  3  3  3]\n",
      " [ 1  2  3  5]]\n",
      "f:\n",
      " [[0.25 0.5  0.75 0.5 ]\n",
      " [0.01 0.02 0.03 0.04]\n",
      " [0.01 0.01 0.01 0.01]]\n",
      "E+F:\n",
      " [[ 5 11 19 14]\n",
      " [ 6  6  6  6]\n",
      " [ 3  6  9 13]]\n",
      "E-F:\n",
      " [[ -3  -7 -13  -6]\n",
      " [  0   0   0   0]\n",
      " [  1   2   3   3]]\n",
      "E*F:\n",
      " [[ 4 18 48 40]\n",
      " [ 9  9  9  9]\n",
      " [ 2  8 18 40]]\n",
      "---\n",
      "np.diff(f):\n",
      " [[1 1 1]\n",
      " [0 0 0]\n",
      " [2 2 2]]\n"
     ]
    }
   ],
   "source": [
    "%matplotlib inline\n",
    "import numpy as np\n",
    "import matplotlib.pyplot as plt\n",
    "\n",
    "E = np.array([[1,2,3,4],[3,3,3,3],[2,4,6,8]])\n",
    "F = np.array([[4,9,16,10],[3,3,3,3],[1,2,3,5]])\n",
    "\n",
    "print (\"E:\\n\",E)\n",
    "print (\"F:\\n\",F)\n",
    "f = np.array([[.25,.5,.75,.5],[.01,.02,.03,.04],[.01,.01,.01,.01]])\n",
    "print (\"f:\\n\",f)\n",
    "print (\"E+F:\\n\",E+F)\n",
    "print (\"E-F:\\n\",E-F)\n",
    "print (\"E*F:\\n\",E*F)\n",
    "print(\"---\")\n",
    "df = np.diff(E)\n",
    "print(\"np.diff(f):\\n\",df)"
   ]
  },
  {
   "cell_type": "code",
   "execution_count": 2,
   "metadata": {},
   "outputs": [
    {
     "name": "stdout",
     "output_type": "stream",
     "text": [
      "Emid:\n",
      " [[1.5 2.5 3.5]\n",
      " [3.  3.  3. ]\n",
      " [3.  5.  7. ]]\n"
     ]
    }
   ],
   "source": [
    "notfirst = E[:,1:]\n",
    "notlast  = E[:,:-1]\n",
    "Emid = .5*(notlast + notfirst)\n",
    "print(\"Emid:\\n\",Emid)"
   ]
  },
  {
   "cell_type": "code",
   "execution_count": 3,
   "metadata": {},
   "outputs": [
    {
     "name": "stdout",
     "output_type": "stream",
     "text": [
      "G:\n",
      " [[ 4 18 48 40]\n",
      " [ 9  9  9  9]\n",
      " [ 2  8 18 40]]\n",
      "Array row axis summaries:\n",
      " [110  36  68]\n",
      "square root of the row totals:\n",
      " [10.48808848  6.          8.24621125]\n"
     ]
    }
   ],
   "source": [
    "# testing and learning\n",
    "a = np.arange(12).reshape(4,3)\n",
    "G = E*F\n",
    "print(\"G:\\n\",G)\n",
    "gsum = G.sum(axis=1)\n",
    "print(\"Array row axis summaries:\\n\",gsum)\n",
    "\n",
    "#gsumsquared = np.square(gsum)\n",
    "#print(\"Row totals squared:\\n\",gsumsquared)\n",
    "\n",
    "rooted = np.sqrt(gsum)\n",
    "print(\"square root of the row totals:\\n\",rooted)"
   ]
  },
  {
   "cell_type": "code",
   "execution_count": 4,
   "metadata": {},
   "outputs": [
    {
     "name": "stdout",
     "output_type": "stream",
     "text": [
      "significant wave height:\n",
      " [41.95235393 24.         32.984845  ]\n"
     ]
    }
   ],
   "source": [
    "product = (E*F)\n",
    "SWH = 4*np.sqrt(product.sum(axis=1))\n",
    "print(\"significant wave height:\\n\",SWH)"
   ]
  },
  {
   "cell_type": "code",
   "execution_count": 9,
   "metadata": {},
   "outputs": [
    {
     "name": "stdout",
     "output_type": "stream",
     "text": [
      "PE:\n",
      " [[0.66666667 0.4        0.28571429]\n",
      " [0.33333333 0.33333333 0.33333333]\n",
      " [0.33333333 0.2        0.14285714]]\n"
     ]
    }
   ],
   "source": [
    "PE = 1./Emid\n",
    "print(\"PE:\\n\",PE)"
   ]
  }
 ],
 "metadata": {
  "kernelspec": {
   "display_name": "Python 3",
   "language": "python",
   "name": "python3"
  },
  "language_info": {
   "codemirror_mode": {
    "name": "ipython",
    "version": 3
   },
   "file_extension": ".py",
   "mimetype": "text/x-python",
   "name": "python",
   "nbconvert_exporter": "python",
   "pygments_lexer": "ipython3",
   "version": "3.7.0"
  }
 },
 "nbformat": 4,
 "nbformat_minor": 2
}
