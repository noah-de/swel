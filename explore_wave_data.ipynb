{
 "cells": [
  {
   "cell_type": "markdown",
   "metadata": {},
   "source": [
    "# Wave data analysis\n",
    "From the raw data feed, get the following:\n",
    " - [f] get frequency data as collection (1/seconds) measure of cycles per second\n",
    " - [E] get wave energy data as E (meters squared per second)\n",
    "\n",
    "Perform the following calculations:\n",
    "  1. [df] Average of frequency pairs comparing each frequency with the one after it\n",
    "  2. [Emid] calculate the Energy mid-point\n",
    "  3. [fmid] calculate the frequency mid-point\n",
    "  4. [SWF] Significant wave height integrating across the entire range of frequencies (as a function of wave periods)\n",
    "  5. [p] define the arbitrary period second intervals (p = [0,5,7,9,11,13,15,17,19,21,35])\n",
    "  6. [pmid] calculate the mid-point (between frequencies) Making plots nicer.\n",
    "  7. [pf] shift the focus from frequencies to periods\n",
    "  8. [SWHmid] # integrate the calculations: 4* sqrt(sum(df*Emid))\n",
    "\n",
    "*PLOT the results*"
   ]
  },
  {
   "cell_type": "code",
   "execution_count": 30,
   "metadata": {},
   "outputs": [
    {
     "data": {
      "text/plain": [
       "('./46053.data_spec', <http.client.HTTPMessage at 0x1062bff60>)"
      ]
     },
     "execution_count": 30,
     "metadata": {},
     "output_type": "execute_result"
    }
   ],
   "source": [
    "%matplotlib inline\n",
    "\n",
    "# the address to the buoy data (should pass in as argument)\n",
    "# 46053 = E. Santa Barbara\n",
    "# 46054 = W. Santa Barbara\n",
    "# 46217 = Anacapa Passage\n",
    "# 46086 = San Clemente Basin\n",
    "# 46219 = San Nicolas Island\n",
    "filename = '46053' # the buoy name\n",
    "url = 'https://www.ndbc.noaa.gov/data/realtime2/{}.data_spec'.format(filename)\n",
    "dest = './{}.data_spec'.format(filename)\n",
    "from urllib.request import urlretrieve\n",
    "# urlretrieve(url, dest)\n"
   ]
  },
  {
   "cell_type": "markdown",
   "metadata": {},
   "source": [
    "### Read the file into 3 lists\n",
    "Skipping the first 3 header lines"
   ]
  },
  {
   "cell_type": "code",
   "execution_count": 31,
   "metadata": {},
   "outputs": [
    {
     "name": "stdout",
     "output_type": "stream",
     "text": [
      "1091\t1091\t1091\n"
     ]
    }
   ],
   "source": [
    "import matplotlib.pyplot as plt\n",
    "import numpy as np\n",
    "filename = '46053' # the buoy name\n",
    "dest = './{}.data_spec'.format(filename)\n",
    "\n",
    "dates = []\n",
    "energies = []\n",
    "frequencies = []\n",
    "\n",
    "with open(dest) as fp:\n",
    "    for _ in range(3):\n",
    "        next(fp)\n",
    "    \n",
    "    for l in fp:\n",
    "\n",
    "        dates.append(l.split()[0:5])\n",
    "        # separation_frequency = l.split()[5] # this value is ignored\n",
    "        \n",
    "        # [E] get wave energy data as E (meters squared per second)\n",
    "        energies.append([float(e) for e in l.split()[6::2]])\n",
    "\n",
    "        # [f] get frequency data as collection (1/seconds) measure of cycles per second\n",
    "        freqs=l.split()[7::2]\n",
    "        frequencies.append([float(i[1:-1]) for i in freqs])\n",
    "\n",
    "    fp.close()\n",
    "print(\"{}\\t{}\\t{}\".format(len(dates), len(energies), len(frequencies)))"
   ]
  },
  {
   "cell_type": "markdown",
   "metadata": {},
   "source": [
    "### convert the lists to numpy arrays"
   ]
  },
  {
   "cell_type": "code",
   "execution_count": 32,
   "metadata": {
    "collapsed": true
   },
   "outputs": [],
   "source": [
    "E = np.array(energies)    # E for 'Energy'\n",
    "f = np.array(frequencies) # f for 'frequency'"
   ]
  },
  {
   "cell_type": "markdown",
   "metadata": {},
   "source": [
    "Take a look at the array:"
   ]
  },
  {
   "cell_type": "code",
   "execution_count": 33,
   "metadata": {},
   "outputs": [
    {
     "name": "stdout",
     "output_type": "stream",
     "text": [
      "E (Energy) is a numpy array (1091, 46)\n"
     ]
    },
    {
     "data": {
      "text/plain": [
       "[<matplotlib.lines.Line2D at 0x105acd9b0>]"
      ]
     },
     "execution_count": 33,
     "metadata": {},
     "output_type": "execute_result"
    },
    {
     "data": {
      "image/png": "[encoded data removed]",
      "text/plain": [
       "<matplotlib.figure.Figure at 0x1062bf978>"
      ]
     },
     "metadata": {},
     "output_type": "display_data"
    }
   ],
   "source": [
    "print(\"E (Energy) is a numpy array {}\".format(E.shape))\n",
    "sample_ndx = 722\n",
    "E[sample_ndx,:]           # display the data\n",
    "plt.plot(E[sample_ndx,:]) # view the data"
   ]
  },
  {
   "cell_type": "code",
   "execution_count": 34,
   "metadata": {},
   "outputs": [
    {
     "data": {
      "text/plain": [
       "array([ 0.033,  0.038,  0.043,  0.048,  0.053,  0.058,  0.063,  0.068,\n",
       "        0.073,  0.078,  0.083,  0.088,  0.093,  0.1  ,  0.11 ,  0.12 ,\n",
       "        0.13 ,  0.14 ,  0.15 ,  0.16 ,  0.17 ,  0.18 ,  0.19 ,  0.2  ,\n",
       "        0.21 ,  0.22 ,  0.23 ,  0.24 ,  0.25 ,  0.26 ,  0.27 ,  0.28 ,\n",
       "        0.29 ,  0.3  ,  0.31 ,  0.32 ,  0.33 ,  0.34 ,  0.35 ,  0.365,\n",
       "        0.385,  0.405,  0.425,  0.445,  0.465,  0.485])"
      ]
     },
     "execution_count": 34,
     "metadata": {},
     "output_type": "execute_result"
    }
   ],
   "source": [
    "f[sample_ndx,:]   # display the data"
   ]
  },
  {
   "cell_type": "markdown",
   "metadata": {},
   "source": [
    "### 1. [df] Average of frequency pairs comparing each frequency with the one after it"
   ]
  },
  {
   "cell_type": "code",
   "execution_count": 35,
   "metadata": {},
   "outputs": [
    {
     "data": {
      "text/plain": [
       "[<matplotlib.lines.Line2D at 0x1069ad240>]"
      ]
     },
     "execution_count": 35,
     "metadata": {},
     "output_type": "execute_result"
    },
    {
     "data": {
      "image/png": "[encoded data removed]",
      "text/plain": [
       "<matplotlib.figure.Figure at 0x105a8c1d0>"
      ]
     },
     "metadata": {},
     "output_type": "display_data"
    }
   ],
   "source": [
    "df = np.diff(f)\n",
    "#plt.plot(df) # numpy differentiation is harsh\n",
    "df[sample_ndx,:] # slice of one row\n",
    "plt.plot(df[sample_ndx,:])"
   ]
  },
  {
   "cell_type": "markdown",
   "metadata": {},
   "source": [
    "### 2. [Emid] calculate the Energy mid-point"
   ]
  },
  {
   "cell_type": "code",
   "execution_count": 36,
   "metadata": {},
   "outputs": [
    {
     "name": "stdout",
     "output_type": "stream",
     "text": [
      "(1091, 45)\n"
     ]
    },
    {
     "data": {
      "text/plain": [
       "array([ 0.    ,  0.    ,  0.008 ,  0.236 ,  0.493 ,  0.3605,  0.191 ,\n",
       "        0.175 ,  0.1695,  0.172 ,  0.1295,  0.0875,  0.072 ,  0.064 ,\n",
       "        0.1325,  0.156 ,  0.111 ,  0.103 ,  0.0765,  0.0715,  0.0715,\n",
       "        0.0635,  0.061 ,  0.053 ,  0.037 ,  0.029 ,  0.024 ,  0.0135,\n",
       "        0.0135,  0.0135,  0.0135,  0.008 ,  0.008 ,  0.008 ,  0.005 ,\n",
       "        0.008 ,  0.008 ,  0.005 ,  0.0025,  0.    ,  0.0025,  0.0025,\n",
       "        0.    ,  0.    ,  0.    ])"
      ]
     },
     "execution_count": 36,
     "metadata": {},
     "output_type": "execute_result"
    }
   ],
   "source": [
    "notfirst = E[:,1:]       # every element in a row, except for the first\n",
    "notlast  = E[:,:-1]      # every element in a row, except for the last\n",
    "Emid = .5*(notlast + notfirst) \n",
    "print(Emid.shape)\n",
    "Emid[sample_ndx]"
   ]
  },
  {
   "cell_type": "markdown",
   "metadata": {},
   "source": [
    "### 3. [fmid] calculate the frequency mid-point"
   ]
  },
  {
   "cell_type": "code",
   "execution_count": 37,
   "metadata": {},
   "outputs": [
    {
     "name": "stdout",
     "output_type": "stream",
     "text": [
      "(1091, 45)\n"
     ]
    },
    {
     "data": {
      "text/plain": [
       "array([ 0.0355,  0.0405,  0.0455,  0.0505,  0.0555,  0.0605,  0.0655,\n",
       "        0.0705,  0.0755,  0.0805,  0.0855,  0.0905,  0.0965,  0.105 ,\n",
       "        0.115 ,  0.125 ,  0.135 ,  0.145 ,  0.155 ,  0.165 ,  0.175 ,\n",
       "        0.185 ,  0.195 ,  0.205 ,  0.215 ,  0.225 ,  0.235 ,  0.245 ,\n",
       "        0.255 ,  0.265 ,  0.275 ,  0.285 ,  0.295 ,  0.305 ,  0.315 ,\n",
       "        0.325 ,  0.335 ,  0.345 ,  0.3575,  0.375 ,  0.395 ,  0.415 ,\n",
       "        0.435 ,  0.455 ,  0.475 ])"
      ]
     },
     "execution_count": 37,
     "metadata": {},
     "output_type": "execute_result"
    }
   ],
   "source": [
    "fmid = .5*(f[:,:-1] + f[:,1:]) \n",
    "print(fmid.shape)\n",
    "fmid[sample_ndx]"
   ]
  },
  {
   "cell_type": "markdown",
   "metadata": {},
   "source": [
    "### 4. [SWH]  significant wave height (m -> multiply by 3.28 to get in feet)\n",
    "integrating across the entire range of frequencies\n",
    "(the integral)\n",
    "\n",
    "SWH = 4\\*sqrt(sum(df.*Emid,2)); \n",
    "\n",
    ".* takes two arrays and returns a 3rd array (of same size) The '2' restricts this to the 2nd dimension"
   ]
  },
  {
   "cell_type": "code",
   "execution_count": 38,
   "metadata": {},
   "outputs": [
    {
     "name": "stdout",
     "output_type": "stream",
     "text": [
      "Significant wave height: [ 0.58263539  0.57948253  0.47489788 ...,  0.55677644  0.5203691\n",
      "  0.47991666]\n"
     ]
    },
    {
     "data": {
      "text/plain": [
       "[<matplotlib.lines.Line2D at 0x106a83668>]"
      ]
     },
     "execution_count": 38,
     "metadata": {},
     "output_type": "execute_result"
    },
    {
     "data": {
      "image/png": "[encoded data removed]",
      "text/plain": [
       "<matplotlib.figure.Figure at 0x1063827f0>"
      ]
     },
     "metadata": {},
     "output_type": "display_data"
    }
   ],
   "source": [
    "product = (df*Emid)\n",
    "SWH = 4*np.sqrt(product.sum(axis=1)); \n",
    "print(\"Significant wave height:\", SWH)\n",
    "plt.plot(SWH)"
   ]
  },
  {
   "cell_type": "markdown",
   "metadata": {},
   "source": [
    "### 5. [p] define period second intervals"
   ]
  },
  {
   "cell_type": "code",
   "execution_count": 39,
   "metadata": {},
   "outputs": [
    {
     "data": {
      "text/plain": [
       "array([ 0,  5,  7,  9, 11, 13, 15, 17, 19, 21, 35])"
      ]
     },
     "execution_count": 39,
     "metadata": {},
     "output_type": "execute_result"
    }
   ],
   "source": [
    "p = np.array([0,5,7,9,11,13,15,17,19,21,35])\n",
    "p"
   ]
  },
  {
   "cell_type": "markdown",
   "metadata": {},
   "source": [
    "### 6. [pmid] calculate the mid-point (between frequencies) "
   ]
  },
  {
   "cell_type": "code",
   "execution_count": 40,
   "metadata": {},
   "outputs": [
    {
     "data": {
      "text/plain": [
       "array([  2.5,   6. ,   8. ,  10. ,  12. ,  14. ,  16. ,  18. ,  20. ,  28. ])"
      ]
     },
     "execution_count": 40,
     "metadata": {},
     "output_type": "execute_result"
    }
   ],
   "source": [
    "notfirst = p[1:]       # every element in a row, except for the first\n",
    "notlast  = p[:-1]      # every element in a row, except for the last\n",
    "pmid = .5*(notfirst + notlast)\n",
    "pmid"
   ]
  },
  {
   "cell_type": "markdown",
   "metadata": {},
   "source": [
    "---"
   ]
  }
 ],
 "metadata": {
  "kernelspec": {
   "display_name": "Python 3",
   "language": "python",
   "name": "python3"
  },
  "language_info": {
   "codemirror_mode": {
    "name": "ipython",
    "version": 3
   },
   "file_extension": ".py",
   "mimetype": "text/x-python",
   "name": "python",
   "nbconvert_exporter": "python",
   "pygments_lexer": "ipython3",
   "version": "3.6.3"
  }
 },
 "nbformat": 4,
 "nbformat_minor": 2
}
